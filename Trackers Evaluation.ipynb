{
  "cells": [
    {
      "cell_type": "markdown",
      "id": "927dcd00",
      "metadata": {
        "id": "927dcd00"
      },
      "source": [
        "## Nikhil Lamba\n",
        "## 21901305"
      ]
    },
    {
      "cell_type": "code",
      "execution_count": null,
      "id": "5f849a7a",
      "metadata": {
        "id": "5f849a7a",
        "outputId": "d9268c43-c9b1-4995-ca47-137003d85c48"
      },
      "outputs": [
        {
          "name": "stdout",
          "output_type": "stream",
          "text": [
            "D:\\Satbir_Sir_dataset\\Nikhil_codes\n"
          ]
        }
      ],
      "source": [
        "%cd D:\\Satbir_Sir_dataset\\Nikhil_codes"
      ]
    },
    {
      "cell_type": "code",
      "execution_count": null,
      "id": "8b807adf",
      "metadata": {
        "id": "8b807adf"
      },
      "outputs": [],
      "source": [
        "import cv2\n",
        "import sys\n",
        "\n",
        "\n",
        "(major_ver, minor_ver, subminor_ver) = (cv2.__version__).split('.')\n",
        "\n",
        "if __name__ == '__main__' :\n",
        "\n",
        "    # Set up tracker.\n",
        "    # Instead of CSRT, you can also use\n",
        "\n",
        "    tracker_types = ['BOOSTING', 'MIL','KCF', 'TLD', 'MEDIANFLOW', 'GOTURN', 'MOSSE', 'CSRT']\n",
        "    tracker_type = tracker_types[0]\n",
        "\n",
        "    if int(minor_ver) < 3:\n",
        "        tracker = cv2.Tracker_create(tracker_type)\n",
        "    else:\n",
        "        if tracker_type == 'BOOSTING':\n",
        "            tracker = cv2.legacy.TrackerBoosting_create()\n",
        "        elif tracker_type == 'MIL':\n",
        "            tracker = cv2.TrackerMIL_create()\n",
        "        elif tracker_type == 'KCF':\n",
        "            tracker = cv2.legacy.TrackerKCF_create()\n",
        "        elif tracker_type == 'TLD':\n",
        "            tracker = cv2.legacy.TrackerTLD_create()\n",
        "        elif tracker_type == 'MEDIANFLOW':\n",
        "            tracker = cv2.legacy.TrackerMedianFlow_create()\n",
        "        elif tracker_type == 'GOTURN':\n",
        "             tracker = cv2.legacy.TrackerGOTURN_create()\n",
        "        elif tracker_type == 'MOSSE':\n",
        "            tracker = cv2.legacy.TrackerMOSSE_create()\n",
        "        elif tracker_type == \"CSRT\":\n",
        "            tracker = cv2.TrackerCSRT_create()\n",
        "\n",
        "\n",
        "video = cv2.VideoCapture(\"project.avi\")\n",
        "out = cv2.VideoWriter('output_BOOSTING_rgb.avi',cv2.VideoWriter_fourcc('M','J','P','G'), 10, (448,324))\n",
        "#video = cv2.VideoCapture(0) # for using CAM\n",
        "\n",
        "# Exit if video not opened.\n",
        "if not video.isOpened():\n",
        "  print(\"Could not open video\")\n",
        "  sys.exit()\n",
        "\n",
        "# Read first frame.\n",
        "ok, frame = video.read()\n",
        "if not ok:\n",
        "  print ('Cannot read video file')\n",
        "  sys.exit()\n",
        "\n",
        "bbox = (147,195,17,50)\n",
        "\n",
        "# Uncomment the line below to select a different bounding box\n",
        "####bbox = cv2.selectROI(frame, False)\n",
        "\n",
        "# Initialize tracker with first frame and bounding box\n",
        "ok = tracker.init(frame, bbox)\n",
        "list1=[]\n",
        "list2=[]\n",
        "bbox_0=[]\n",
        "bbox_1=[]\n",
        "bbox_2=[]\n",
        "bbox_3=[]\n",
        "while True:\n",
        "     # Read a new frame\n",
        "     ok, frame = video.read()\n",
        "     if not ok:\n",
        "         break\n",
        "\n",
        "     # Start timer\n",
        "     timer = cv2.getTickCount()\n",
        "\n",
        "     # Update tracker\n",
        "     ok, bbox = tracker.update(frame)\n",
        "\n",
        "     # Calculate Frames per second (FPS)\n",
        "     fps = cv2.getTickFrequency() / (cv2.getTickCount() - timer);\n",
        "\n",
        "     # Draw bounding box\n",
        "     if ok:\n",
        "         # Tracking success\n",
        "         p1 = (int(bbox[0]), int(bbox[1]))\n",
        "         p2 = (int(bbox[0] + bbox[2]), int(bbox[1] + bbox[3]))\n",
        "         print(p1,p2)\n",
        "         list1.append(p1)\n",
        "         list2.append(p2)\n",
        "         bbox_0.append(bbox[0])\n",
        "         bbox_1.append(bbox[1])\n",
        "         bbox_2.append(bbox[0]+bbox[2])\n",
        "         bbox_3.append(bbox[1]+bbox[3])\n",
        "         cv2.rectangle(frame, p1, p2, (255,0,0), 2, 1)\n",
        "     else :\n",
        "         # Tracking failure\n",
        "         cv2.putText(frame, \"Tracking failure detected\", (100,80), cv2.FONT_HERSHEY_SIMPLEX, 0.75,(0,0,255),2)\n",
        "\n",
        "     # # Display tracker type on frame\n",
        "     # cv2.putText(frame, tracker_type + \" Tracker\", (100,20), cv2.FONT_HERSHEY_SIMPLEX, 0.75, (50,170,50),2);\n",
        "     #\n",
        "     # # Display FPS on frame\n",
        "     # cv2.putText(frame, \"FPS : \" + str(int(fps)), (100,50), cv2.FONT_HERSHEY_SIMPLEX, 0.75, (50,170,50), 2);\n",
        "     # # Display result\n",
        "     imS = cv2.resize(frame, (448,324))                    # Resize image\n",
        "     out.write(frame)\n",
        "     cv2.imshow(\"Tracking\", imS)\n",
        "\n",
        "     # Exit if ESC pressed\n",
        "     if cv2.waitKey(1) & 0xFF == ord('q'): # if press SPACE bar\n",
        "         break\n",
        "\n",
        "video.release()\n",
        "out.release()\n",
        "cv2.destroyAllWindows()\n"
      ]
    },
    {
      "cell_type": "code",
      "execution_count": null,
      "id": "612564ec",
      "metadata": {
        "id": "612564ec"
      },
      "outputs": [],
      "source": [
        "bbox_3"
      ]
    },
    {
      "cell_type": "code",
      "execution_count": null,
      "id": "084bb3fe",
      "metadata": {
        "id": "084bb3fe"
      },
      "outputs": [],
      "source": [
        "#dataframe containing values regarding tracker_MIL_RGB\n",
        "import pandas as pd\n",
        "#from pandas import DataFrame\n",
        "df_MIL_RGB = pd.DataFrame(list(zip(bbox_0,bbox_1,bbox_2,bbox_3)), columns =['bbox_0', 'bbox_1','bbox_2','bbox_3']) \n",
        "#print(df_MIL_RGB) \n",
        "# df=DataFrame({'bbox0' : bbox_0, 'bbox1': bbox_1, 'bbox2': bbox_2, 'bbox3': bbox_3})\n",
        "\n",
        "# print(df)"
      ]
    },
    {
      "cell_type": "code",
      "execution_count": null,
      "id": "e4385e96",
      "metadata": {
        "id": "e4385e96",
        "outputId": "8696b086-5a7a-46db-85cd-75120d73341f"
      },
      "outputs": [
        {
          "data": {
            "text/html": [
              "<div>\n",
              "<style scoped>\n",
              "    .dataframe tbody tr th:only-of-type {\n",
              "        vertical-align: middle;\n",
              "    }\n",
              "\n",
              "    .dataframe tbody tr th {\n",
              "        vertical-align: top;\n",
              "    }\n",
              "\n",
              "    .dataframe thead th {\n",
              "        text-align: right;\n",
              "    }\n",
              "</style>\n",
              "<table border=\"1\" class=\"dataframe\">\n",
              "  <thead>\n",
              "    <tr style=\"text-align: right;\">\n",
              "      <th></th>\n",
              "      <th>bbox_0</th>\n",
              "      <th>bbox_1</th>\n",
              "      <th>bbox_2</th>\n",
              "      <th>bbox_3</th>\n",
              "    </tr>\n",
              "  </thead>\n",
              "  <tbody>\n",
              "    <tr>\n",
              "      <th>0</th>\n",
              "      <td>144</td>\n",
              "      <td>194</td>\n",
              "      <td>161</td>\n",
              "      <td>244</td>\n",
              "    </tr>\n",
              "    <tr>\n",
              "      <th>1</th>\n",
              "      <td>141</td>\n",
              "      <td>192</td>\n",
              "      <td>158</td>\n",
              "      <td>242</td>\n",
              "    </tr>\n",
              "    <tr>\n",
              "      <th>2</th>\n",
              "      <td>138</td>\n",
              "      <td>191</td>\n",
              "      <td>155</td>\n",
              "      <td>241</td>\n",
              "    </tr>\n",
              "    <tr>\n",
              "      <th>3</th>\n",
              "      <td>136</td>\n",
              "      <td>188</td>\n",
              "      <td>153</td>\n",
              "      <td>238</td>\n",
              "    </tr>\n",
              "    <tr>\n",
              "      <th>4</th>\n",
              "      <td>135</td>\n",
              "      <td>188</td>\n",
              "      <td>152</td>\n",
              "      <td>237</td>\n",
              "    </tr>\n",
              "    <tr>\n",
              "      <th>...</th>\n",
              "      <td>...</td>\n",
              "      <td>...</td>\n",
              "      <td>...</td>\n",
              "      <td>...</td>\n",
              "    </tr>\n",
              "    <tr>\n",
              "      <th>145</th>\n",
              "      <td>138</td>\n",
              "      <td>183</td>\n",
              "      <td>155</td>\n",
              "      <td>233</td>\n",
              "    </tr>\n",
              "    <tr>\n",
              "      <th>146</th>\n",
              "      <td>140</td>\n",
              "      <td>186</td>\n",
              "      <td>157</td>\n",
              "      <td>236</td>\n",
              "    </tr>\n",
              "    <tr>\n",
              "      <th>147</th>\n",
              "      <td>144</td>\n",
              "      <td>185</td>\n",
              "      <td>161</td>\n",
              "      <td>235</td>\n",
              "    </tr>\n",
              "    <tr>\n",
              "      <th>148</th>\n",
              "      <td>146</td>\n",
              "      <td>184</td>\n",
              "      <td>163</td>\n",
              "      <td>234</td>\n",
              "    </tr>\n",
              "    <tr>\n",
              "      <th>149</th>\n",
              "      <td>150</td>\n",
              "      <td>184</td>\n",
              "      <td>167</td>\n",
              "      <td>234</td>\n",
              "    </tr>\n",
              "  </tbody>\n",
              "</table>\n",
              "<p>150 rows × 4 columns</p>\n",
              "</div>"
            ],
            "text/plain": [
              "     bbox_0  bbox_1  bbox_2  bbox_3\n",
              "0       144     194     161     244\n",
              "1       141     192     158     242\n",
              "2       138     191     155     241\n",
              "3       136     188     153     238\n",
              "4       135     188     152     237\n",
              "..      ...     ...     ...     ...\n",
              "145     138     183     155     233\n",
              "146     140     186     157     236\n",
              "147     144     185     161     235\n",
              "148     146     184     163     234\n",
              "149     150     184     167     234\n",
              "\n",
              "[150 rows x 4 columns]"
            ]
          },
          "execution_count": 263,
          "metadata": {},
          "output_type": "execute_result"
        }
      ],
      "source": [
        "df_MIL_RGB"
      ]
    },
    {
      "cell_type": "code",
      "execution_count": null,
      "id": "848fee7a",
      "metadata": {
        "id": "848fee7a"
      },
      "outputs": [],
      "source": [
        "df_GT__pre=pd.read_csv('GT.txt',sep=\"\t\",header=None)"
      ]
    },
    {
      "cell_type": "code",
      "execution_count": null,
      "id": "a2f5cb82",
      "metadata": {
        "id": "a2f5cb82"
      },
      "outputs": [],
      "source": [
        "df_GT=df_GT__pre.iloc[:,[1,2,3,4]]"
      ]
    },
    {
      "cell_type": "code",
      "execution_count": null,
      "id": "399854bf",
      "metadata": {
        "id": "399854bf",
        "outputId": "a1fdf1cf-9a19-439e-823d-d9b22b4a3994"
      },
      "outputs": [
        {
          "data": {
            "text/html": [
              "<div>\n",
              "<style scoped>\n",
              "    .dataframe tbody tr th:only-of-type {\n",
              "        vertical-align: middle;\n",
              "    }\n",
              "\n",
              "    .dataframe tbody tr th {\n",
              "        vertical-align: top;\n",
              "    }\n",
              "\n",
              "    .dataframe thead th {\n",
              "        text-align: right;\n",
              "    }\n",
              "</style>\n",
              "<table border=\"1\" class=\"dataframe\">\n",
              "  <thead>\n",
              "    <tr style=\"text-align: right;\">\n",
              "      <th></th>\n",
              "      <th>0</th>\n",
              "      <th>1</th>\n",
              "      <th>2</th>\n",
              "      <th>3</th>\n",
              "      <th>4</th>\n",
              "    </tr>\n",
              "  </thead>\n",
              "  <tbody>\n",
              "    <tr>\n",
              "      <th>0</th>\n",
              "      <td>750.0</td>\n",
              "      <td>147.00</td>\n",
              "      <td>195.50</td>\n",
              "      <td>17.0</td>\n",
              "      <td>50.0</td>\n",
              "    </tr>\n",
              "    <tr>\n",
              "      <th>1</th>\n",
              "      <td>751.0</td>\n",
              "      <td>144.51</td>\n",
              "      <td>194.51</td>\n",
              "      <td>17.0</td>\n",
              "      <td>50.0</td>\n",
              "    </tr>\n",
              "    <tr>\n",
              "      <th>2</th>\n",
              "      <td>752.0</td>\n",
              "      <td>142.51</td>\n",
              "      <td>192.51</td>\n",
              "      <td>17.0</td>\n",
              "      <td>50.0</td>\n",
              "    </tr>\n",
              "    <tr>\n",
              "      <th>3</th>\n",
              "      <td>753.0</td>\n",
              "      <td>138.51</td>\n",
              "      <td>193.51</td>\n",
              "      <td>17.0</td>\n",
              "      <td>50.0</td>\n",
              "    </tr>\n",
              "    <tr>\n",
              "      <th>4</th>\n",
              "      <td>754.0</td>\n",
              "      <td>136.51</td>\n",
              "      <td>191.51</td>\n",
              "      <td>17.0</td>\n",
              "      <td>50.0</td>\n",
              "    </tr>\n",
              "    <tr>\n",
              "      <th>...</th>\n",
              "      <td>...</td>\n",
              "      <td>...</td>\n",
              "      <td>...</td>\n",
              "      <td>...</td>\n",
              "      <td>...</td>\n",
              "    </tr>\n",
              "    <tr>\n",
              "      <th>147</th>\n",
              "      <td>897.0</td>\n",
              "      <td>11.51</td>\n",
              "      <td>159.51</td>\n",
              "      <td>17.0</td>\n",
              "      <td>50.0</td>\n",
              "    </tr>\n",
              "    <tr>\n",
              "      <th>148</th>\n",
              "      <td>898.0</td>\n",
              "      <td>11.51</td>\n",
              "      <td>159.51</td>\n",
              "      <td>17.0</td>\n",
              "      <td>50.0</td>\n",
              "    </tr>\n",
              "    <tr>\n",
              "      <th>149</th>\n",
              "      <td>899.0</td>\n",
              "      <td>10.51</td>\n",
              "      <td>160.51</td>\n",
              "      <td>17.0</td>\n",
              "      <td>50.0</td>\n",
              "    </tr>\n",
              "    <tr>\n",
              "      <th>150</th>\n",
              "      <td>900.0</td>\n",
              "      <td>10.51</td>\n",
              "      <td>159.51</td>\n",
              "      <td>17.0</td>\n",
              "      <td>50.0</td>\n",
              "    </tr>\n",
              "    <tr>\n",
              "      <th>151</th>\n",
              "      <td>NaN</td>\n",
              "      <td>NaN</td>\n",
              "      <td>NaN</td>\n",
              "      <td>NaN</td>\n",
              "      <td>NaN</td>\n",
              "    </tr>\n",
              "  </tbody>\n",
              "</table>\n",
              "<p>152 rows × 5 columns</p>\n",
              "</div>"
            ],
            "text/plain": [
              "         0       1       2     3     4\n",
              "0    750.0  147.00  195.50  17.0  50.0\n",
              "1    751.0  144.51  194.51  17.0  50.0\n",
              "2    752.0  142.51  192.51  17.0  50.0\n",
              "3    753.0  138.51  193.51  17.0  50.0\n",
              "4    754.0  136.51  191.51  17.0  50.0\n",
              "..     ...     ...     ...   ...   ...\n",
              "147  897.0   11.51  159.51  17.0  50.0\n",
              "148  898.0   11.51  159.51  17.0  50.0\n",
              "149  899.0   10.51  160.51  17.0  50.0\n",
              "150  900.0   10.51  159.51  17.0  50.0\n",
              "151    NaN     NaN     NaN   NaN   NaN\n",
              "\n",
              "[152 rows x 5 columns]"
            ]
          },
          "execution_count": 266,
          "metadata": {},
          "output_type": "execute_result"
        }
      ],
      "source": [
        "df_GT__pre"
      ]
    },
    {
      "cell_type": "code",
      "execution_count": null,
      "id": "2e3b4e68",
      "metadata": {
        "id": "2e3b4e68",
        "outputId": "1d40eec0-8b0e-4389-d1c6-164535a09c2e"
      },
      "outputs": [
        {
          "name": "stderr",
          "output_type": "stream",
          "text": [
            "C:\\Users\\Acer\\AppData\\Local\\Temp/ipykernel_4292/905120781.py:1: SettingWithCopyWarning: \n",
            "A value is trying to be set on a copy of a slice from a DataFrame.\n",
            "Try using .loc[row_indexer,col_indexer] = value instead\n",
            "\n",
            "See the caveats in the documentation: https://pandas.pydata.org/pandas-docs/stable/user_guide/indexing.html#returning-a-view-versus-a-copy\n",
            "  df_GT[3]=df_GT[1]+df_GT[3]\n",
            "C:\\Users\\Acer\\AppData\\Local\\Temp/ipykernel_4292/905120781.py:2: SettingWithCopyWarning: \n",
            "A value is trying to be set on a copy of a slice from a DataFrame.\n",
            "Try using .loc[row_indexer,col_indexer] = value instead\n",
            "\n",
            "See the caveats in the documentation: https://pandas.pydata.org/pandas-docs/stable/user_guide/indexing.html#returning-a-view-versus-a-copy\n",
            "  df_GT[4]=df_GT[2]+df_GT[4]\n"
          ]
        }
      ],
      "source": [
        "df_GT[3]=df_GT[1]+df_GT[3]\n",
        "df_GT[4]=df_GT[2]+df_GT[4]"
      ]
    },
    {
      "cell_type": "code",
      "execution_count": null,
      "id": "456e0db6",
      "metadata": {
        "id": "456e0db6"
      },
      "outputs": [],
      "source": [
        "df_GT"
      ]
    },
    {
      "cell_type": "code",
      "execution_count": null,
      "id": "fd93a86c",
      "metadata": {
        "id": "fd93a86c"
      },
      "outputs": [],
      "source": [
        "dfGTMIL_list = df_GT.to_numpy().tolist()\n",
        "dfMILRGB_list=df_MIL_RGB.to_numpy().tolist()\n",
        "dfGTMIL_list"
      ]
    },
    {
      "cell_type": "markdown",
      "id": "cdeeaace",
      "metadata": {
        "id": "cdeeaace"
      },
      "source": [
        "## Metrics started here"
      ]
    },
    {
      "cell_type": "code",
      "execution_count": null,
      "id": "aaaf8eff",
      "metadata": {
        "id": "aaaf8eff"
      },
      "outputs": [],
      "source": [
        "import math\n",
        "rste_RGB_MIL=[]\n",
        "for i in range(0,150):\n",
        "    rootsquare=math.sqrt(((dfGTMIL_list[i][0]-dfMILRGB_list[i][0])**2)+((dfGTMIL_list[i][1]-dfMILRGB_list[i][1])**2))\n",
        "    rste_RGB_MIL.append(rootsquare)"
      ]
    },
    {
      "cell_type": "code",
      "execution_count": null,
      "id": "37f1935c",
      "metadata": {
        "id": "37f1935c"
      },
      "outputs": [],
      "source": [
        "rste_RGB_MIL"
      ]
    },
    {
      "cell_type": "code",
      "execution_count": null,
      "id": "8d8e6355",
      "metadata": {
        "id": "8d8e6355"
      },
      "outputs": [],
      "source": [
        "## code for complete IOU\n",
        "import cv2\n",
        "def IOU(box1, box2):\n",
        "    \"\"\" assumption:\n",
        "         box1 = [x1,y1,x2,y2], and box2 = [x3,y3,x4,y4],\n",
        "        (x1,y1) and (x3,y3) represent the top left coordinate,\n",
        "        and (x2,y2) and (x4,y4) represent the bottom right coordinate \"\"\"\n",
        "    x1, y1, x2, y2 = box1\n",
        "    x3, y3, x4, y4 = box2\n",
        "    x_inter1 = max(x1, x3)\n",
        "    y_inter1 = max(y1, y3)\n",
        "    x_inter2 = min(x2, x4)\n",
        "    y_inter2 = min(y2, y4)\n",
        "    width_inter = abs(x_inter2 - x_inter1)\n",
        "    height_inter = abs(y_inter2 - y_inter1)\n",
        "    area_inter = width_inter * height_inter\n",
        "    width_box1 = abs(x2 - x1)\n",
        "    height_box1 = abs(y2 - y1)\n",
        "    width_box2 = abs(x4 - x3)\n",
        "    height_box2 = abs(y4 - y3)\n",
        "    area_box1 = width_box1 * height_box1\n",
        "    area_box2 = width_box2 * height_box2\n",
        "    area_union = area_box1 + area_box2 - area_inter\n",
        "    iou = area_inter / area_union\n",
        "    return iou"
      ]
    },
    {
      "cell_type": "code",
      "execution_count": null,
      "id": "facd16ae",
      "metadata": {
        "id": "facd16ae"
      },
      "outputs": [],
      "source": [
        "IOU_MIL_RGB=[]\n",
        "for m in range(0,150):\n",
        "    iou=IOU(dfGTMIL_list[m],dfMILRGB_list[m])\n",
        "    IOU_MIL_RGB.append(iou)"
      ]
    },
    {
      "cell_type": "code",
      "execution_count": null,
      "id": "10be9299",
      "metadata": {
        "id": "10be9299"
      },
      "outputs": [],
      "source": [
        "IOU_MIL_RGB"
      ]
    },
    {
      "cell_type": "code",
      "execution_count": null,
      "id": "ef72c690",
      "metadata": {
        "id": "ef72c690"
      },
      "outputs": [],
      "source": [
        "def PRC(box1, box2):\n",
        "    \"\"\" assumption:\n",
        "         box1 = [x1,y1,x2,y2], and box2 = [x3,y3,x4,y4],\n",
        "        (x1,y1) and (x3,y3) represent the top left coordinate,\n",
        "        and (x2,y2) and (x4,y4) represent the bottom right coordinate \"\"\"\n",
        "    x1, y1, x2, y2 = box1\n",
        "    x3, y3, x4, y4 = box2\n",
        "    x_inter1 = max(x1, x3)\n",
        "    y_inter1 = max(y1, y3)\n",
        "    x_inter2 = min(x2, x4)\n",
        "    y_inter2 = min(y2, y4)\n",
        "    width_inter = abs(x_inter2 - x_inter1)\n",
        "    height_inter = abs(y_inter2 - y_inter1)\n",
        "    area_inter = width_inter * height_inter\n",
        "    width_box1 = abs(x2 - x1)\n",
        "    height_box1 = abs(y2 - y1)\n",
        "    width_box2 = abs(x4 - x3)\n",
        "    height_box2 = abs(y4 - y3)\n",
        "    area_box1 = width_box1 * height_box1\n",
        "    area_box2 = width_box2 * height_box2\n",
        "    if area_box2==0:\n",
        "        prec=0\n",
        "    else:\n",
        "        prec=area_inter/area_box2\n",
        "    #area_union = area_box1 + area_box2 - area_inter\n",
        "    #iou = area_inter / area_union\n",
        "    return prec"
      ]
    },
    {
      "cell_type": "code",
      "execution_count": null,
      "id": "ea334c7a",
      "metadata": {
        "id": "ea334c7a"
      },
      "outputs": [],
      "source": [
        "def REC(box1, box2):\n",
        "    \"\"\" assumption:\n",
        "         box1 = [x1,y1,x2,y2], and box2 = [x3,y3,x4,y4],\n",
        "        (x1,y1) and (x3,y3) represent the top left coordinate,\n",
        "        and (x2,y2) and (x4,y4) represent the bottom right coordinate \"\"\"\n",
        "    x1, y1, x2, y2 = box1\n",
        "    x3, y3, x4, y4 = box2\n",
        "    x_inter1 = max(x1, x3)\n",
        "    y_inter1 = max(y1, y3)\n",
        "    x_inter2 = min(x2, x4)\n",
        "    y_inter2 = min(y2, y4)\n",
        "    width_inter = abs(x_inter2 - x_inter1)\n",
        "    height_inter = abs(y_inter2 - y_inter1)\n",
        "    area_inter = width_inter * height_inter\n",
        "    width_box1 = abs(x2 - x1)\n",
        "    height_box1 = abs(y2 - y1)\n",
        "    width_box2 = abs(x4 - x3)\n",
        "    height_box2 = abs(y4 - y3)\n",
        "    area_box1 = width_box1 * height_box1\n",
        "    area_box2 = width_box2 * height_box2\n",
        "    rec=area_inter/area_box1\n",
        "    #area_union = area_box1 + area_box2 - area_inter\n",
        "    #iou = area_inter / area_union\n",
        "    return rec"
      ]
    },
    {
      "cell_type": "code",
      "execution_count": null,
      "id": "d35c0f64",
      "metadata": {
        "id": "d35c0f64"
      },
      "outputs": [],
      "source": [
        "PREC_MIL_RGB=[]\n",
        "for m in range(0,150):\n",
        "    prc=PRC(dfGTMIL_list[m],dfMILRGB_list[m])\n",
        "    PREC_MIL_RGB.append(iou)"
      ]
    },
    {
      "cell_type": "code",
      "execution_count": null,
      "id": "dbf289b1",
      "metadata": {
        "id": "dbf289b1"
      },
      "outputs": [],
      "source": [
        "REC_MIL_RGB=[]\n",
        "for m in range(0,150):\n",
        "    reca=REC(dfGTMIL_list[m],dfMILRGB_list[m])\n",
        "    REC_MIL_RGB.append(reca)"
      ]
    },
    {
      "cell_type": "code",
      "execution_count": null,
      "id": "dc504ec0",
      "metadata": {
        "id": "dc504ec0"
      },
      "outputs": [],
      "source": [
        "def FMEA(prci, reca):\n",
        "    fmeas=((2*prci*reca)/(prci+reca))\n",
        "    return fmeas"
      ]
    },
    {
      "cell_type": "code",
      "execution_count": null,
      "id": "30084026",
      "metadata": {
        "id": "30084026"
      },
      "outputs": [],
      "source": [
        "## f-measure\n",
        "FMEAS_MIL_RGB=[]    \n",
        "for m in range(0,150):\n",
        "    fmeas=FMEA(PREC_MIL_RGB[m],REC_MIL_RGB[m])\n",
        "    FMEAS_MIL_RGB.append(fmeas)"
      ]
    },
    {
      "cell_type": "code",
      "execution_count": null,
      "id": "362fde1f",
      "metadata": {
        "id": "362fde1f",
        "outputId": "ea7d25c9-7584-4538-d8ea-1a11bfa10ec9"
      },
      "outputs": [
        {
          "name": "stdout",
          "output_type": "stream",
          "text": [
            "Avg Precision MIL RGB is:  0.16109123178734536\n",
            "Avg Recall MIL RGB is:  0.3740833121568629\n",
            "Avg FMeasure MIL RGB is:  0.2111915062804158\n"
          ]
        }
      ],
      "source": [
        "AVG_PREC_MIL_RGB=sum(PREC_MIL_RGB)/len(rste_RGB_MIL)   #Avg precision MIL RGB\n",
        "AVG_REC_MIL_RGB=sum(REC_MIL_RGB)/len(rste_RGB_MIL)     #Avg recall MIL  RGB\n",
        "AVG_FMEAS_MIL_RGB=sum(FMEAS_MIL_RGB)/len(rste_RGB_MIL) #Avg FMeasure MIL RGB\n",
        "\n",
        "print(\"Avg Precision MIL RGB is: \", AVG_PREC_MIL_RGB)\n",
        "print(\"Avg Recall MIL RGB is: \", AVG_REC_MIL_RGB)\n",
        "print(\"Avg FMeasure MIL RGB is: \", AVG_FMEAS_MIL_RGB)"
      ]
    },
    {
      "cell_type": "code",
      "execution_count": null,
      "id": "27440371",
      "metadata": {
        "id": "27440371",
        "outputId": "d498c855-b41c-437c-c028-4eace35b5a3d"
      },
      "outputs": [
        {
          "name": "stdout",
          "output_type": "stream",
          "text": [
            "Avg Precision MIL THERMAL is:  0.4234757442663852\n",
            "Avg Recall MIL THERMAL is:  0.7483119474509801\n",
            "Avg FMeasure MIL THERMAL is:  0.5361158558831867\n"
          ]
        }
      ],
      "source": [
        "AVG_PREC_MIL_THERMAL=sum(PREC_MIL_RGB)/len(rste_RGB_MIL)   #Avg precision MIL RGB\n",
        "AVG_REC_MIL_THERMAL=sum(REC_MIL_RGB)/len(rste_RGB_MIL)     #Avg recall MIL  RGB\n",
        "AVG_FMEAS_MIL_THERMAL=sum(FMEAS_MIL_RGB)/len(rste_RGB_MIL) #Avg FMeasure MIL RGB\n",
        "\n",
        "print(\"Avg Precision MIL THERMAL is: \", AVG_PREC_MIL_THERMAL)\n",
        "print(\"Avg Recall MIL THERMAL is: \", AVG_REC_MIL_THERMAL)\n",
        "print(\"Avg FMeasure MIL THERMAL is: \", AVG_FMEAS_MIL_THERMAL)"
      ]
    },
    {
      "cell_type": "code",
      "execution_count": null,
      "id": "28047403",
      "metadata": {
        "id": "28047403",
        "outputId": "121aee83-6404-4150-ede8-0b1fedbc4663"
      },
      "outputs": [
        {
          "name": "stdout",
          "output_type": "stream",
          "text": [
            "Avg Precision BOOSTING RGB is:  -2.412840341810961\n",
            "Avg Recall BOOSTING RGB is:  1.0408992384313722\n",
            "Avg FMeasure BOOSTING RGB is:  -0.7898657326918855\n"
          ]
        }
      ],
      "source": [
        "AVG_PREC_BOOSTING_RGB=sum(PREC_MIL_RGB)/len(rste_RGB_MIL)   #Avg precision MIL RGB\n",
        "AVG_REC_BOOSTING_RGB=sum(REC_MIL_RGB)/len(rste_RGB_MIL)     #Avg recall MIL  RGB\n",
        "AVG_FMEAS_BOOSTING_RGB=sum(FMEAS_MIL_RGB)/len(rste_RGB_MIL) #Avg FMeasure MIL RGB\n",
        "\n",
        "print(\"Avg Precision BOOSTING RGB is: \", AVG_PREC_BOOSTING_RGB)\n",
        "print(\"Avg Recall BOOSTING RGB is: \", AVG_REC_BOOSTING_RGB)\n",
        "print(\"Avg FMeasure BOOSTING RGB is: \", AVG_FMEAS_BOOSTING_RGB)"
      ]
    },
    {
      "cell_type": "code",
      "execution_count": null,
      "id": "813e5c07",
      "metadata": {
        "id": "813e5c07",
        "outputId": "c4566e4b-26f1-4d41-f126-20cbe86985ab"
      },
      "outputs": [
        {
          "name": "stdout",
          "output_type": "stream",
          "text": [
            "Avg Precision BOOSTING THERMAL is:  0.7296639090058397\n",
            "Avg Recall BOOSTING THERMAL is:  0.7564402956862748\n",
            "Avg FMeasure BOOSTING THERMAL is:  0.7378968361910627\n"
          ]
        }
      ],
      "source": [
        "AVG_PREC_BOOSTING_THERMAL=sum(PREC_MIL_RGB)/len(rste_RGB_MIL)   #Avg precision MIL RGB\n",
        "AVG_REC_BOOSTING_THERMAL=sum(REC_MIL_RGB)/len(rste_RGB_MIL)     #Avg recall MIL  RGB\n",
        "AVG_FMEAS_BOOSTING_THERMAL=sum(FMEAS_MIL_RGB)/len(rste_RGB_MIL) #Avg FMeasure MIL RGB\n",
        "\n",
        "print(\"Avg Precision BOOSTING THERMAL is: \", AVG_PREC_BOOSTING_THERMAL)\n",
        "print(\"Avg Recall BOOSTING THERMAL is: \", AVG_REC_BOOSTING_THERMAL)\n",
        "print(\"Avg FMeasure BOOSTING THERMAL is: \", AVG_FMEAS_BOOSTING_THERMAL)"
      ]
    },
    {
      "cell_type": "code",
      "execution_count": null,
      "id": "d26de757",
      "metadata": {
        "id": "d26de757",
        "outputId": "918ee14a-887d-4eb8-e3d9-818f2632fc55"
      },
      "outputs": [
        {
          "name": "stdout",
          "output_type": "stream",
          "text": [
            "Avg Precision TLD RGB is:  16.93007048050986\n",
            "Avg Recall TLD RGB is:  1.5603478705882354\n",
            "Avg FMeasure TLD RGB is:  1.9799443025903467\n"
          ]
        }
      ],
      "source": [
        "AVG_PREC_TLD_RGB=sum(PREC_MIL_RGB)/len(rste_RGB_MIL)   #Avg precision TLD RGB\n",
        "AVG_REC_TLD_RGB=sum(REC_MIL_RGB)/len(rste_RGB_MIL)     #Avg recall TLD  RGB\n",
        "AVG_FMEAS_TLD_RGB=sum(FMEAS_MIL_RGB)/len(rste_RGB_MIL) #Avg FMeasure TLD RGB\n",
        "\n",
        "print(\"Avg Precision TLD RGB is: \", AVG_PREC_TLD_RGB)\n",
        "print(\"Avg Recall TLD RGB is: \", AVG_REC_TLD_RGB)\n",
        "print(\"Avg FMeasure TLD RGB is: \", AVG_FMEAS_TLD_RGB)"
      ]
    },
    {
      "cell_type": "code",
      "execution_count": null,
      "id": "2a3560c7",
      "metadata": {
        "id": "2a3560c7",
        "outputId": "abeb59a4-367a-4924-a462-24e8924c92c2"
      },
      "outputs": [
        {
          "name": "stdout",
          "output_type": "stream",
          "text": [
            "Avg Precision TLD THERMAL is:  0.03860397983744069\n",
            "Avg Recall TLD THERMAL is:  3.3344269043137267\n",
            "Avg FMeasure TLD THERMAL is:  0.06557376857675959\n"
          ]
        }
      ],
      "source": [
        "AVG_PREC_TLD_THERMAL=sum(PREC_MIL_RGB)/len(rste_RGB_MIL)   #Avg precision TLD THERMAL\n",
        "AVG_REC_TLD_THERMAL=sum(REC_MIL_RGB)/len(rste_RGB_MIL)     #Avg recall TLD  THERMAL\n",
        "AVG_FMEAS_TLD_THERMAL=sum(FMEAS_MIL_RGB)/len(rste_RGB_MIL) #Avg FMeasure TLD THERMAL\n",
        "\n",
        "print(\"Avg Precision TLD THERMAL is: \", AVG_PREC_TLD_THERMAL)\n",
        "print(\"Avg Recall TLD THERMAL is: \", AVG_REC_TLD_THERMAL)\n",
        "print(\"Avg FMeasure TLD THERMAL is: \", AVG_FMEAS_TLD_THERMAL)"
      ]
    },
    {
      "cell_type": "code",
      "execution_count": null,
      "id": "84591b80",
      "metadata": {
        "id": "84591b80",
        "outputId": "746cc78c-3998-42a5-b79f-a44620b1097e"
      },
      "outputs": [
        {
          "name": "stdout",
          "output_type": "stream",
          "text": [
            "Avg Precision MEDIANFLOW RGB is:  -4.82919246769496\n",
            "Avg Recall MEDIANFLOW RGB is:  1.2939510016487907\n",
            "Avg FMeasure MEDIANFLOW RGB is:  3.8690178839668223\n"
          ]
        }
      ],
      "source": [
        "AVG_PREC_MEDIANFLOW_RGB=sum(PREC_MIL_RGB)/len(rste_RGB_MIL)   #Avg precision MEDIANFLOW RGB\n",
        "AVG_REC_MEDIANFLOW_RGB=sum(REC_MIL_RGB)/len(rste_RGB_MIL)     #Avg recall MEDIANFLOW  RGB\n",
        "AVG_FMEAS_MEDIANFLOW_RGB=sum(FMEAS_MIL_RGB)/len(rste_RGB_MIL) #Avg FMeasure MEDIANFLOW RGB\n",
        "\n",
        "print(\"Avg Precision MEDIANFLOW RGB is: \", AVG_PREC_MEDIANFLOW_RGB)\n",
        "print(\"Avg Recall MEDIANFLOW RGB is: \", AVG_REC_MEDIANFLOW_RGB)\n",
        "print(\"Avg FMeasure MEDIANFLOW RGB is: \", AVG_FMEAS_MEDIANFLOW_RGB)"
      ]
    },
    {
      "cell_type": "code",
      "execution_count": null,
      "id": "595ab549",
      "metadata": {
        "id": "595ab549",
        "outputId": "28d1eb8c-6ee2-4d44-c893-7307050c3041"
      },
      "outputs": [
        {
          "name": "stdout",
          "output_type": "stream",
          "text": [
            "Avg Precision MEDIANFLOW THERMAL is:  -2.492011150236754\n",
            "Avg Recall MEDIANFLOW THERMAL is:  1.1998696216915539\n",
            "Avg FMeasure MEDIANFLOW THERMAL is:  -3.0932668133354437\n"
          ]
        }
      ],
      "source": [
        "AVG_PREC_MEDIANFLOW_THERMAL=sum(PREC_MIL_RGB)/len(rste_RGB_MIL)   #Avg precision MEDIANFLOW THERMAL\n",
        "AVG_REC_MEDIANFLOW_THERMAL=sum(REC_MIL_RGB)/len(rste_RGB_MIL)     #Avg recall MEDIANFLOW  THERMAL\n",
        "AVG_FMEAS_MEDIANFLOW_THERMAL=sum(FMEAS_MIL_RGB)/len(rste_RGB_MIL) #Avg FMeasure MEDIANFLOW THERMAL\n",
        "\n",
        "print(\"Avg Precision MEDIANFLOW THERMAL is: \", AVG_PREC_MEDIANFLOW_THERMAL)\n",
        "print(\"Avg Recall MEDIANFLOW THERMAL is: \", AVG_REC_MEDIANFLOW_THERMAL)\n",
        "print(\"Avg FMeasure MEDIANFLOW THERMAL is: \", AVG_FMEAS_MEDIANFLOW_THERMAL)"
      ]
    },
    {
      "cell_type": "code",
      "execution_count": null,
      "id": "6dad5f89",
      "metadata": {
        "id": "6dad5f89",
        "outputId": "eac8fc2b-574c-4914-d92a-e79239f384bb"
      },
      "outputs": [
        {
          "name": "stdout",
          "output_type": "stream",
          "text": [
            "Avg Precision CSRT RGB is:  -2.3304950482496256\n",
            "Avg Recall CSRT RGB is:  1.0781865866666667\n",
            "Avg FMeasure CSRT RGB is:  2.325953820555797\n"
          ]
        }
      ],
      "source": [
        "AVG_PREC_CSRT_RGB=sum(PREC_MIL_RGB)/len(rste_RGB_MIL)   #Avg precision CSRT RGB\n",
        "AVG_REC_CSRT_RGB=sum(REC_MIL_RGB)/len(rste_RGB_MIL)     #Avg recall CSRT  RGB\n",
        "AVG_FMEAS_CSRT_RGB=sum(FMEAS_MIL_RGB)/len(rste_RGB_MIL) #Avg FMeasure CSRT RGB\n",
        "\n",
        "print(\"Avg Precision CSRT RGB is: \", AVG_PREC_CSRT_RGB)\n",
        "print(\"Avg Recall CSRT RGB is: \", AVG_REC_CSRT_RGB)\n",
        "print(\"Avg FMeasure CSRT RGB is: \", AVG_FMEAS_CSRT_RGB)"
      ]
    },
    {
      "cell_type": "code",
      "execution_count": null,
      "id": "dbeb87c7",
      "metadata": {
        "id": "dbeb87c7",
        "outputId": "b201e808-051b-4c67-890e-838ebd291623"
      },
      "outputs": [
        {
          "name": "stdout",
          "output_type": "stream",
          "text": [
            "Avg Precision CSRT THERMAL is:  -2.098752018068131\n",
            "Avg Recall CSRT THERMAL is:  1.0370976556862748\n",
            "Avg FMeasure CSRT THERMAL is:  -44.518591171391215\n"
          ]
        }
      ],
      "source": [
        "AVG_PREC_CSRT_THERMAL=sum(PREC_MIL_RGB)/len(rste_RGB_MIL)   #Avg precision CSRT THERMAL\n",
        "AVG_REC_CSRT_THERMAL=sum(REC_MIL_RGB)/len(rste_RGB_MIL)     #Avg recall CSRT  THERMAL\n",
        "AVG_FMEAS_CSRT_THERMAL=sum(FMEAS_MIL_RGB)/len(rste_RGB_MIL) #Avg FMeasure CSRT THERMAL\n",
        "\n",
        "print(\"Avg Precision CSRT THERMAL is: \", AVG_PREC_CSRT_THERMAL)\n",
        "print(\"Avg Recall CSRT THERMAL is: \", AVG_REC_CSRT_THERMAL)\n",
        "print(\"Avg FMeasure CSRT THERMAL is: \", AVG_FMEAS_CSRT_THERMAL)"
      ]
    },
    {
      "cell_type": "code",
      "execution_count": null,
      "id": "08b99bba",
      "metadata": {
        "id": "08b99bba"
      },
      "outputs": [],
      "source": [
        "data_metrics_CSRT_THERMAL= pd.DataFrame(list(zip(rste_RGB_MIL,IOU_MIL_RGB,PREC_MIL_RGB,REC_MIL_RGB,FMEAS_MIL_RGB)), columns =['rste_RGB_MIL', 'IOU_MIL_RGB','PREC_MIL_RGB','REC_MIL_RGB','FMEAS_MIL_RGB']) "
      ]
    },
    {
      "cell_type": "code",
      "execution_count": null,
      "id": "93378e68",
      "metadata": {
        "id": "93378e68",
        "outputId": "e0a8d6f5-1d11-402a-8306-9fe0357c7578"
      },
      "outputs": [
        {
          "data": {
            "text/html": [
              "<div>\n",
              "<style scoped>\n",
              "    .dataframe tbody tr th:only-of-type {\n",
              "        vertical-align: middle;\n",
              "    }\n",
              "\n",
              "    .dataframe tbody tr th {\n",
              "        vertical-align: top;\n",
              "    }\n",
              "\n",
              "    .dataframe thead th {\n",
              "        text-align: right;\n",
              "    }\n",
              "</style>\n",
              "<table border=\"1\" class=\"dataframe\">\n",
              "  <thead>\n",
              "    <tr style=\"text-align: right;\">\n",
              "      <th></th>\n",
              "      <th>rste_RGB_MIL</th>\n",
              "      <th>IOU_MIL_RGB</th>\n",
              "      <th>PREC_MIL_RGB</th>\n",
              "      <th>REC_MIL_RGB</th>\n",
              "      <th>FMEAS_MIL_RGB</th>\n",
              "    </tr>\n",
              "  </thead>\n",
              "  <tbody>\n",
              "    <tr>\n",
              "      <th>0</th>\n",
              "      <td>8.015610</td>\n",
              "      <td>0.355122</td>\n",
              "      <td>0.161091</td>\n",
              "      <td>0.524118</td>\n",
              "      <td>0.246438</td>\n",
              "    </tr>\n",
              "    <tr>\n",
              "      <th>1</th>\n",
              "      <td>8.872440</td>\n",
              "      <td>0.310909</td>\n",
              "      <td>0.161091</td>\n",
              "      <td>0.474341</td>\n",
              "      <td>0.240505</td>\n",
              "    </tr>\n",
              "    <tr>\n",
              "      <th>2</th>\n",
              "      <td>9.314516</td>\n",
              "      <td>0.330422</td>\n",
              "      <td>0.161091</td>\n",
              "      <td>0.496718</td>\n",
              "      <td>0.243283</td>\n",
              "    </tr>\n",
              "    <tr>\n",
              "      <th>3</th>\n",
              "      <td>11.866769</td>\n",
              "      <td>0.364081</td>\n",
              "      <td>0.161091</td>\n",
              "      <td>0.533812</td>\n",
              "      <td>0.247495</td>\n",
              "    </tr>\n",
              "    <tr>\n",
              "      <th>4</th>\n",
              "      <td>10.990914</td>\n",
              "      <td>0.376775</td>\n",
              "      <td>0.161091</td>\n",
              "      <td>0.547330</td>\n",
              "      <td>0.248920</td>\n",
              "    </tr>\n",
              "    <tr>\n",
              "      <th>...</th>\n",
              "      <td>...</td>\n",
              "      <td>...</td>\n",
              "      <td>...</td>\n",
              "      <td>...</td>\n",
              "      <td>...</td>\n",
              "    </tr>\n",
              "    <tr>\n",
              "      <th>145</th>\n",
              "      <td>21.285681</td>\n",
              "      <td>0.136645</td>\n",
              "      <td>0.161091</td>\n",
              "      <td>0.240435</td>\n",
              "      <td>0.192924</td>\n",
              "    </tr>\n",
              "    <tr>\n",
              "      <th>146</th>\n",
              "      <td>17.747118</td>\n",
              "      <td>0.260482</td>\n",
              "      <td>0.161091</td>\n",
              "      <td>0.413306</td>\n",
              "      <td>0.231826</td>\n",
              "    </tr>\n",
              "    <tr>\n",
              "      <th>147</th>\n",
              "      <td>15.520960</td>\n",
              "      <td>0.315566</td>\n",
              "      <td>0.161091</td>\n",
              "      <td>0.479741</td>\n",
              "      <td>0.241193</td>\n",
              "    </tr>\n",
              "    <tr>\n",
              "      <th>148</th>\n",
              "      <td>18.356476</td>\n",
              "      <td>0.281385</td>\n",
              "      <td>0.161091</td>\n",
              "      <td>0.439188</td>\n",
              "      <td>0.235721</td>\n",
              "    </tr>\n",
              "    <tr>\n",
              "      <th>149</th>\n",
              "      <td>20.810099</td>\n",
              "      <td>0.161091</td>\n",
              "      <td>0.161091</td>\n",
              "      <td>0.277482</td>\n",
              "      <td>0.203843</td>\n",
              "    </tr>\n",
              "  </tbody>\n",
              "</table>\n",
              "<p>150 rows × 5 columns</p>\n",
              "</div>"
            ],
            "text/plain": [
              "     rste_RGB_MIL  IOU_MIL_RGB  PREC_MIL_RGB  REC_MIL_RGB  FMEAS_MIL_RGB\n",
              "0        8.015610     0.355122      0.161091     0.524118       0.246438\n",
              "1        8.872440     0.310909      0.161091     0.474341       0.240505\n",
              "2        9.314516     0.330422      0.161091     0.496718       0.243283\n",
              "3       11.866769     0.364081      0.161091     0.533812       0.247495\n",
              "4       10.990914     0.376775      0.161091     0.547330       0.248920\n",
              "..            ...          ...           ...          ...            ...\n",
              "145     21.285681     0.136645      0.161091     0.240435       0.192924\n",
              "146     17.747118     0.260482      0.161091     0.413306       0.231826\n",
              "147     15.520960     0.315566      0.161091     0.479741       0.241193\n",
              "148     18.356476     0.281385      0.161091     0.439188       0.235721\n",
              "149     20.810099     0.161091      0.161091     0.277482       0.203843\n",
              "\n",
              "[150 rows x 5 columns]"
            ]
          },
          "execution_count": 98,
          "metadata": {},
          "output_type": "execute_result"
        }
      ],
      "source": [
        "data_metrics_MIL_RGB"
      ]
    },
    {
      "cell_type": "code",
      "execution_count": null,
      "id": "a0743fd1",
      "metadata": {
        "id": "a0743fd1"
      },
      "outputs": [],
      "source": [
        "avg_rste_MIL_RGB=sum(data_metrics_MIL_RGB['rste_RGB_MIL'])/len(data_metrics_MIL_RGB['rste_RGB_MIL'])"
      ]
    },
    {
      "cell_type": "code",
      "execution_count": null,
      "id": "d27b00f2",
      "metadata": {
        "id": "d27b00f2",
        "outputId": "9f3b4038-9b52-47e6-9c5d-8acea5ed487f"
      },
      "outputs": [
        {
          "data": {
            "text/html": [
              "<div>\n",
              "<style scoped>\n",
              "    .dataframe tbody tr th:only-of-type {\n",
              "        vertical-align: middle;\n",
              "    }\n",
              "\n",
              "    .dataframe tbody tr th {\n",
              "        vertical-align: top;\n",
              "    }\n",
              "\n",
              "    .dataframe thead th {\n",
              "        text-align: right;\n",
              "    }\n",
              "</style>\n",
              "<table border=\"1\" class=\"dataframe\">\n",
              "  <thead>\n",
              "    <tr style=\"text-align: right;\">\n",
              "      <th></th>\n",
              "      <th>rste_RGB_MIL</th>\n",
              "      <th>IOU_MIL_RGB</th>\n",
              "      <th>PREC_MIL_RGB</th>\n",
              "      <th>REC_MIL_RGB</th>\n",
              "      <th>FMEAS_MIL_RGB</th>\n",
              "    </tr>\n",
              "  </thead>\n",
              "  <tbody>\n",
              "    <tr>\n",
              "      <th>0</th>\n",
              "      <td>2.500000</td>\n",
              "      <td>0.904762</td>\n",
              "      <td>0.423476</td>\n",
              "      <td>0.950000</td>\n",
              "      <td>0.585816</td>\n",
              "    </tr>\n",
              "    <tr>\n",
              "      <th>1</th>\n",
              "      <td>7.660300</td>\n",
              "      <td>0.631744</td>\n",
              "      <td>0.423476</td>\n",
              "      <td>0.774318</td>\n",
              "      <td>0.547515</td>\n",
              "    </tr>\n",
              "    <tr>\n",
              "      <th>2</th>\n",
              "      <td>10.714486</td>\n",
              "      <td>0.277456</td>\n",
              "      <td>0.423476</td>\n",
              "      <td>0.434388</td>\n",
              "      <td>0.428863</td>\n",
              "    </tr>\n",
              "    <tr>\n",
              "      <th>3</th>\n",
              "      <td>3.821021</td>\n",
              "      <td>0.625441</td>\n",
              "      <td>0.423476</td>\n",
              "      <td>0.769565</td>\n",
              "      <td>0.546322</td>\n",
              "    </tr>\n",
              "    <tr>\n",
              "      <th>4</th>\n",
              "      <td>1.587514</td>\n",
              "      <td>0.821903</td>\n",
              "      <td>0.423476</td>\n",
              "      <td>0.902247</td>\n",
              "      <td>0.576410</td>\n",
              "    </tr>\n",
              "    <tr>\n",
              "      <th>...</th>\n",
              "      <td>...</td>\n",
              "      <td>...</td>\n",
              "      <td>...</td>\n",
              "      <td>...</td>\n",
              "      <td>...</td>\n",
              "    </tr>\n",
              "    <tr>\n",
              "      <th>145</th>\n",
              "      <td>12.759318</td>\n",
              "      <td>0.469609</td>\n",
              "      <td>0.423476</td>\n",
              "      <td>0.639094</td>\n",
              "      <td>0.509408</td>\n",
              "    </tr>\n",
              "    <tr>\n",
              "      <th>146</th>\n",
              "      <td>6.682829</td>\n",
              "      <td>0.656371</td>\n",
              "      <td>0.423476</td>\n",
              "      <td>0.792541</td>\n",
              "      <td>0.552002</td>\n",
              "    </tr>\n",
              "    <tr>\n",
              "      <th>147</th>\n",
              "      <td>12.033295</td>\n",
              "      <td>0.439739</td>\n",
              "      <td>0.423476</td>\n",
              "      <td>0.610859</td>\n",
              "      <td>0.500194</td>\n",
              "    </tr>\n",
              "    <tr>\n",
              "      <th>148</th>\n",
              "      <td>10.805563</td>\n",
              "      <td>0.507373</td>\n",
              "      <td>0.423476</td>\n",
              "      <td>0.673188</td>\n",
              "      <td>0.519902</td>\n",
              "    </tr>\n",
              "    <tr>\n",
              "      <th>149</th>\n",
              "      <td>12.993083</td>\n",
              "      <td>0.423476</td>\n",
              "      <td>0.423476</td>\n",
              "      <td>0.594988</td>\n",
              "      <td>0.494790</td>\n",
              "    </tr>\n",
              "  </tbody>\n",
              "</table>\n",
              "<p>150 rows × 5 columns</p>\n",
              "</div>"
            ],
            "text/plain": [
              "     rste_RGB_MIL  IOU_MIL_RGB  PREC_MIL_RGB  REC_MIL_RGB  FMEAS_MIL_RGB\n",
              "0        2.500000     0.904762      0.423476     0.950000       0.585816\n",
              "1        7.660300     0.631744      0.423476     0.774318       0.547515\n",
              "2       10.714486     0.277456      0.423476     0.434388       0.428863\n",
              "3        3.821021     0.625441      0.423476     0.769565       0.546322\n",
              "4        1.587514     0.821903      0.423476     0.902247       0.576410\n",
              "..            ...          ...           ...          ...            ...\n",
              "145     12.759318     0.469609      0.423476     0.639094       0.509408\n",
              "146      6.682829     0.656371      0.423476     0.792541       0.552002\n",
              "147     12.033295     0.439739      0.423476     0.610859       0.500194\n",
              "148     10.805563     0.507373      0.423476     0.673188       0.519902\n",
              "149     12.993083     0.423476      0.423476     0.594988       0.494790\n",
              "\n",
              "[150 rows x 5 columns]"
            ]
          },
          "execution_count": 71,
          "metadata": {},
          "output_type": "execute_result"
        }
      ],
      "source": [
        "data_metrics_MIL_THERMAL"
      ]
    },
    {
      "cell_type": "code",
      "execution_count": null,
      "id": "dea41215",
      "metadata": {
        "id": "dea41215"
      },
      "outputs": [],
      "source": [
        "avg_rste_MIL_THERMAL=sum(data_metrics_MIL_THERMAL['rste_RGB_MIL'])/len(data_metrics_MIL_THERMAL['rste_RGB_MIL'])"
      ]
    },
    {
      "cell_type": "code",
      "execution_count": null,
      "id": "6681da8b",
      "metadata": {
        "id": "6681da8b",
        "outputId": "91d34549-cc8c-4e04-db14-9ad19e467786"
      },
      "outputs": [
        {
          "data": {
            "text/html": [
              "<div>\n",
              "<style scoped>\n",
              "    .dataframe tbody tr th:only-of-type {\n",
              "        vertical-align: middle;\n",
              "    }\n",
              "\n",
              "    .dataframe tbody tr th {\n",
              "        vertical-align: top;\n",
              "    }\n",
              "\n",
              "    .dataframe thead th {\n",
              "        text-align: right;\n",
              "    }\n",
              "</style>\n",
              "<table border=\"1\" class=\"dataframe\">\n",
              "  <thead>\n",
              "    <tr style=\"text-align: right;\">\n",
              "      <th></th>\n",
              "      <th>rste_RGB_MIL</th>\n",
              "      <th>IOU_MIL_RGB</th>\n",
              "      <th>PREC_MIL_RGB</th>\n",
              "      <th>REC_MIL_RGB</th>\n",
              "      <th>FMEAS_MIL_RGB</th>\n",
              "    </tr>\n",
              "  </thead>\n",
              "  <tbody>\n",
              "    <tr>\n",
              "      <th>0</th>\n",
              "      <td>2.061553</td>\n",
              "      <td>0.775457</td>\n",
              "      <td>-2.41284</td>\n",
              "      <td>0.873529</td>\n",
              "      <td>2.738481</td>\n",
              "    </tr>\n",
              "    <tr>\n",
              "      <th>1</th>\n",
              "      <td>3.546858</td>\n",
              "      <td>0.646681</td>\n",
              "      <td>-2.41284</td>\n",
              "      <td>0.785435</td>\n",
              "      <td>2.329021</td>\n",
              "    </tr>\n",
              "    <tr>\n",
              "      <th>2</th>\n",
              "      <td>5.707907</td>\n",
              "      <td>0.487809</td>\n",
              "      <td>-2.41284</td>\n",
              "      <td>0.655741</td>\n",
              "      <td>1.800921</td>\n",
              "    </tr>\n",
              "    <tr>\n",
              "      <th>3</th>\n",
              "      <td>2.557381</td>\n",
              "      <td>0.730104</td>\n",
              "      <td>-2.41284</td>\n",
              "      <td>0.844000</td>\n",
              "      <td>2.596105</td>\n",
              "    </tr>\n",
              "    <tr>\n",
              "      <th>4</th>\n",
              "      <td>2.912078</td>\n",
              "      <td>0.763357</td>\n",
              "      <td>-2.41284</td>\n",
              "      <td>0.865800</td>\n",
              "      <td>2.700688</td>\n",
              "    </tr>\n",
              "    <tr>\n",
              "      <th>...</th>\n",
              "      <td>...</td>\n",
              "      <td>...</td>\n",
              "      <td>...</td>\n",
              "      <td>...</td>\n",
              "      <td>...</td>\n",
              "    </tr>\n",
              "    <tr>\n",
              "      <th>145</th>\n",
              "      <td>122.056135</td>\n",
              "      <td>-2.166397</td>\n",
              "      <td>-2.41284</td>\n",
              "      <td>3.714682</td>\n",
              "      <td>-13.769622</td>\n",
              "    </tr>\n",
              "    <tr>\n",
              "      <th>146</th>\n",
              "      <td>127.857343</td>\n",
              "      <td>-2.592387</td>\n",
              "      <td>-2.41284</td>\n",
              "      <td>3.255976</td>\n",
              "      <td>-18.635549</td>\n",
              "    </tr>\n",
              "    <tr>\n",
              "      <th>147</th>\n",
              "      <td>130.413190</td>\n",
              "      <td>-1.779091</td>\n",
              "      <td>-2.41284</td>\n",
              "      <td>4.567094</td>\n",
              "      <td>-10.230614</td>\n",
              "    </tr>\n",
              "    <tr>\n",
              "      <th>148</th>\n",
              "      <td>134.385714</td>\n",
              "      <td>-1.732737</td>\n",
              "      <td>-2.41284</td>\n",
              "      <td>4.729494</td>\n",
              "      <td>-9.851722</td>\n",
              "    </tr>\n",
              "    <tr>\n",
              "      <th>149</th>\n",
              "      <td>142.965591</td>\n",
              "      <td>-2.412840</td>\n",
              "      <td>-2.41284</td>\n",
              "      <td>3.415588</td>\n",
              "      <td>-16.437371</td>\n",
              "    </tr>\n",
              "  </tbody>\n",
              "</table>\n",
              "<p>150 rows × 5 columns</p>\n",
              "</div>"
            ],
            "text/plain": [
              "     rste_RGB_MIL  IOU_MIL_RGB  PREC_MIL_RGB  REC_MIL_RGB  FMEAS_MIL_RGB\n",
              "0        2.061553     0.775457      -2.41284     0.873529       2.738481\n",
              "1        3.546858     0.646681      -2.41284     0.785435       2.329021\n",
              "2        5.707907     0.487809      -2.41284     0.655741       1.800921\n",
              "3        2.557381     0.730104      -2.41284     0.844000       2.596105\n",
              "4        2.912078     0.763357      -2.41284     0.865800       2.700688\n",
              "..            ...          ...           ...          ...            ...\n",
              "145    122.056135    -2.166397      -2.41284     3.714682     -13.769622\n",
              "146    127.857343    -2.592387      -2.41284     3.255976     -18.635549\n",
              "147    130.413190    -1.779091      -2.41284     4.567094     -10.230614\n",
              "148    134.385714    -1.732737      -2.41284     4.729494      -9.851722\n",
              "149    142.965591    -2.412840      -2.41284     3.415588     -16.437371\n",
              "\n",
              "[150 rows x 5 columns]"
            ]
          },
          "execution_count": 99,
          "metadata": {},
          "output_type": "execute_result"
        }
      ],
      "source": [
        "data_metrics_BOOSTING_RGB"
      ]
    },
    {
      "cell_type": "code",
      "execution_count": null,
      "id": "f57c47aa",
      "metadata": {
        "id": "f57c47aa"
      },
      "outputs": [],
      "source": [
        "avg_rste_BOOSTING_RGB=sum(data_metrics_BOOSTING_RGB['rste_RGB_MIL'])/len(data_metrics_BOOSTING_RGB['rste_RGB_MIL'])"
      ]
    },
    {
      "cell_type": "code",
      "execution_count": null,
      "id": "81e9faa5",
      "metadata": {
        "id": "81e9faa5",
        "outputId": "5bbe1a55-18e5-44e8-9304-91af43ce1b51"
      },
      "outputs": [
        {
          "data": {
            "text/html": [
              "<div>\n",
              "<style scoped>\n",
              "    .dataframe tbody tr th:only-of-type {\n",
              "        vertical-align: middle;\n",
              "    }\n",
              "\n",
              "    .dataframe tbody tr th {\n",
              "        vertical-align: top;\n",
              "    }\n",
              "\n",
              "    .dataframe thead th {\n",
              "        text-align: right;\n",
              "    }\n",
              "</style>\n",
              "<table border=\"1\" class=\"dataframe\">\n",
              "  <thead>\n",
              "    <tr style=\"text-align: right;\">\n",
              "      <th></th>\n",
              "      <th>rste_RGB_MIL</th>\n",
              "      <th>IOU_MIL_RGB</th>\n",
              "      <th>PREC_MIL_RGB</th>\n",
              "      <th>REC_MIL_RGB</th>\n",
              "      <th>FMEAS_MIL_RGB</th>\n",
              "    </tr>\n",
              "  </thead>\n",
              "  <tbody>\n",
              "    <tr>\n",
              "      <th>0</th>\n",
              "      <td>2.061553</td>\n",
              "      <td>0.775457</td>\n",
              "      <td>0.729664</td>\n",
              "      <td>0.873529</td>\n",
              "      <td>0.795142</td>\n",
              "    </tr>\n",
              "    <tr>\n",
              "      <th>1</th>\n",
              "      <td>3.544037</td>\n",
              "      <td>0.647111</td>\n",
              "      <td>0.729664</td>\n",
              "      <td>0.785753</td>\n",
              "      <td>0.756670</td>\n",
              "    </tr>\n",
              "    <tr>\n",
              "      <th>2</th>\n",
              "      <td>10.714486</td>\n",
              "      <td>0.277456</td>\n",
              "      <td>0.729664</td>\n",
              "      <td>0.434388</td>\n",
              "      <td>0.544576</td>\n",
              "    </tr>\n",
              "    <tr>\n",
              "      <th>3</th>\n",
              "      <td>10.990914</td>\n",
              "      <td>0.376775</td>\n",
              "      <td>0.729664</td>\n",
              "      <td>0.547330</td>\n",
              "      <td>0.625479</td>\n",
              "    </tr>\n",
              "    <tr>\n",
              "      <th>4</th>\n",
              "      <td>8.760148</td>\n",
              "      <td>0.453861</td>\n",
              "      <td>0.729664</td>\n",
              "      <td>0.624353</td>\n",
              "      <td>0.672913</td>\n",
              "    </tr>\n",
              "    <tr>\n",
              "      <th>...</th>\n",
              "      <td>...</td>\n",
              "      <td>...</td>\n",
              "      <td>...</td>\n",
              "      <td>...</td>\n",
              "      <td>...</td>\n",
              "    </tr>\n",
              "    <tr>\n",
              "      <th>145</th>\n",
              "      <td>3.813161</td>\n",
              "      <td>0.736572</td>\n",
              "      <td>0.729664</td>\n",
              "      <td>0.848306</td>\n",
              "      <td>0.784525</td>\n",
              "    </tr>\n",
              "    <tr>\n",
              "      <th>146</th>\n",
              "      <td>3.535562</td>\n",
              "      <td>0.681636</td>\n",
              "      <td>0.729664</td>\n",
              "      <td>0.810682</td>\n",
              "      <td>0.768042</td>\n",
              "    </tr>\n",
              "    <tr>\n",
              "      <th>147</th>\n",
              "      <td>2.121367</td>\n",
              "      <td>0.793400</td>\n",
              "      <td>0.729664</td>\n",
              "      <td>0.884800</td>\n",
              "      <td>0.799778</td>\n",
              "    </tr>\n",
              "    <tr>\n",
              "      <th>148</th>\n",
              "      <td>5.531745</td>\n",
              "      <td>0.760800</td>\n",
              "      <td>0.729664</td>\n",
              "      <td>0.864153</td>\n",
              "      <td>0.791234</td>\n",
              "    </tr>\n",
              "    <tr>\n",
              "      <th>149</th>\n",
              "      <td>6.529946</td>\n",
              "      <td>0.729664</td>\n",
              "      <td>0.729664</td>\n",
              "      <td>0.843706</td>\n",
              "      <td>0.782552</td>\n",
              "    </tr>\n",
              "  </tbody>\n",
              "</table>\n",
              "<p>150 rows × 5 columns</p>\n",
              "</div>"
            ],
            "text/plain": [
              "     rste_RGB_MIL  IOU_MIL_RGB  PREC_MIL_RGB  REC_MIL_RGB  FMEAS_MIL_RGB\n",
              "0        2.061553     0.775457      0.729664     0.873529       0.795142\n",
              "1        3.544037     0.647111      0.729664     0.785753       0.756670\n",
              "2       10.714486     0.277456      0.729664     0.434388       0.544576\n",
              "3       10.990914     0.376775      0.729664     0.547330       0.625479\n",
              "4        8.760148     0.453861      0.729664     0.624353       0.672913\n",
              "..            ...          ...           ...          ...            ...\n",
              "145      3.813161     0.736572      0.729664     0.848306       0.784525\n",
              "146      3.535562     0.681636      0.729664     0.810682       0.768042\n",
              "147      2.121367     0.793400      0.729664     0.884800       0.799778\n",
              "148      5.531745     0.760800      0.729664     0.864153       0.791234\n",
              "149      6.529946     0.729664      0.729664     0.843706       0.782552\n",
              "\n",
              "[150 rows x 5 columns]"
            ]
          },
          "execution_count": 123,
          "metadata": {},
          "output_type": "execute_result"
        }
      ],
      "source": [
        "data_metrics_BOOSTING_THERMAL"
      ]
    },
    {
      "cell_type": "code",
      "execution_count": null,
      "id": "4550aab5",
      "metadata": {
        "id": "4550aab5"
      },
      "outputs": [],
      "source": [
        "avg_rste_BOOSTING_THERMAL=sum(data_metrics_BOOSTING_THERMAL['rste_RGB_MIL'])/len(data_metrics_BOOSTING_THERMAL['rste_RGB_MIL'])"
      ]
    },
    {
      "cell_type": "code",
      "execution_count": null,
      "id": "73d46071",
      "metadata": {
        "id": "73d46071",
        "outputId": "48966c01-cce7-4557-a683-dd7d91ddba52"
      },
      "outputs": [
        {
          "data": {
            "text/html": [
              "<div>\n",
              "<style scoped>\n",
              "    .dataframe tbody tr th:only-of-type {\n",
              "        vertical-align: middle;\n",
              "    }\n",
              "\n",
              "    .dataframe tbody tr th {\n",
              "        vertical-align: top;\n",
              "    }\n",
              "\n",
              "    .dataframe thead th {\n",
              "        text-align: right;\n",
              "    }\n",
              "</style>\n",
              "<table border=\"1\" class=\"dataframe\">\n",
              "  <thead>\n",
              "    <tr style=\"text-align: right;\">\n",
              "      <th></th>\n",
              "      <th>rste_RGB_MIL</th>\n",
              "      <th>IOU_MIL_RGB</th>\n",
              "      <th>PREC_MIL_RGB</th>\n",
              "      <th>REC_MIL_RGB</th>\n",
              "      <th>FMEAS_MIL_RGB</th>\n",
              "    </tr>\n",
              "  </thead>\n",
              "  <tbody>\n",
              "    <tr>\n",
              "      <th>0</th>\n",
              "      <td>32.268406</td>\n",
              "      <td>0.053459</td>\n",
              "      <td>16.93007</td>\n",
              "      <td>0.120000</td>\n",
              "      <td>0.238311</td>\n",
              "    </tr>\n",
              "    <tr>\n",
              "      <th>1</th>\n",
              "      <td>33.340069</td>\n",
              "      <td>0.057923</td>\n",
              "      <td>16.93007</td>\n",
              "      <td>0.129470</td>\n",
              "      <td>0.256976</td>\n",
              "    </tr>\n",
              "    <tr>\n",
              "      <th>2</th>\n",
              "      <td>33.698074</td>\n",
              "      <td>0.028685</td>\n",
              "      <td>16.93007</td>\n",
              "      <td>0.065941</td>\n",
              "      <td>0.131370</td>\n",
              "    </tr>\n",
              "    <tr>\n",
              "      <th>3</th>\n",
              "      <td>30.023527</td>\n",
              "      <td>0.032572</td>\n",
              "      <td>16.93007</td>\n",
              "      <td>0.093534</td>\n",
              "      <td>0.186040</td>\n",
              "    </tr>\n",
              "    <tr>\n",
              "      <th>4</th>\n",
              "      <td>31.298885</td>\n",
              "      <td>0.025854</td>\n",
              "      <td>16.93007</td>\n",
              "      <td>0.074729</td>\n",
              "      <td>0.148802</td>\n",
              "    </tr>\n",
              "    <tr>\n",
              "      <th>...</th>\n",
              "      <td>...</td>\n",
              "      <td>...</td>\n",
              "      <td>...</td>\n",
              "      <td>...</td>\n",
              "      <td>...</td>\n",
              "    </tr>\n",
              "    <tr>\n",
              "      <th>145</th>\n",
              "      <td>147.339405</td>\n",
              "      <td>3.566935</td>\n",
              "      <td>16.93007</td>\n",
              "      <td>1.846918</td>\n",
              "      <td>3.330507</td>\n",
              "    </tr>\n",
              "    <tr>\n",
              "      <th>146</th>\n",
              "      <td>154.617981</td>\n",
              "      <td>2.254902</td>\n",
              "      <td>16.93007</td>\n",
              "      <td>1.638200</td>\n",
              "      <td>2.987337</td>\n",
              "    </tr>\n",
              "    <tr>\n",
              "      <th>147</th>\n",
              "      <td>155.130449</td>\n",
              "      <td>14.560128</td>\n",
              "      <td>16.93007</td>\n",
              "      <td>2.774614</td>\n",
              "      <td>4.767842</td>\n",
              "    </tr>\n",
              "    <tr>\n",
              "      <th>148</th>\n",
              "      <td>161.643312</td>\n",
              "      <td>1.940961</td>\n",
              "      <td>16.93007</td>\n",
              "      <td>1.560647</td>\n",
              "      <td>2.857852</td>\n",
              "    </tr>\n",
              "    <tr>\n",
              "      <th>149</th>\n",
              "      <td>239.130519</td>\n",
              "      <td>16.930070</td>\n",
              "      <td>16.93007</td>\n",
              "      <td>12.433454</td>\n",
              "      <td>14.337465</td>\n",
              "    </tr>\n",
              "  </tbody>\n",
              "</table>\n",
              "<p>150 rows × 5 columns</p>\n",
              "</div>"
            ],
            "text/plain": [
              "     rste_RGB_MIL  IOU_MIL_RGB  PREC_MIL_RGB  REC_MIL_RGB  FMEAS_MIL_RGB\n",
              "0       32.268406     0.053459      16.93007     0.120000       0.238311\n",
              "1       33.340069     0.057923      16.93007     0.129470       0.256976\n",
              "2       33.698074     0.028685      16.93007     0.065941       0.131370\n",
              "3       30.023527     0.032572      16.93007     0.093534       0.186040\n",
              "4       31.298885     0.025854      16.93007     0.074729       0.148802\n",
              "..            ...          ...           ...          ...            ...\n",
              "145    147.339405     3.566935      16.93007     1.846918       3.330507\n",
              "146    154.617981     2.254902      16.93007     1.638200       2.987337\n",
              "147    155.130449    14.560128      16.93007     2.774614       4.767842\n",
              "148    161.643312     1.940961      16.93007     1.560647       2.857852\n",
              "149    239.130519    16.930070      16.93007    12.433454      14.337465\n",
              "\n",
              "[150 rows x 5 columns]"
            ]
          },
          "execution_count": 150,
          "metadata": {},
          "output_type": "execute_result"
        }
      ],
      "source": [
        "data_metrics_TLD_RGB"
      ]
    },
    {
      "cell_type": "code",
      "execution_count": null,
      "id": "ce1688cc",
      "metadata": {
        "id": "ce1688cc"
      },
      "outputs": [],
      "source": [
        "avg_rste_TLD_RGB=sum(data_metrics_TLD_RGB['rste_RGB_MIL'])/len(data_metrics_TLD_RGB['rste_RGB_MIL'])"
      ]
    },
    {
      "cell_type": "code",
      "execution_count": null,
      "id": "a7a6c53d",
      "metadata": {
        "id": "a7a6c53d",
        "outputId": "d0c11d90-d4de-4701-f403-1ae48637bb97"
      },
      "outputs": [
        {
          "data": {
            "text/html": [
              "<div>\n",
              "<style scoped>\n",
              "    .dataframe tbody tr th:only-of-type {\n",
              "        vertical-align: middle;\n",
              "    }\n",
              "\n",
              "    .dataframe tbody tr th {\n",
              "        vertical-align: top;\n",
              "    }\n",
              "\n",
              "    .dataframe thead th {\n",
              "        text-align: right;\n",
              "    }\n",
              "</style>\n",
              "<table border=\"1\" class=\"dataframe\">\n",
              "  <thead>\n",
              "    <tr style=\"text-align: right;\">\n",
              "      <th></th>\n",
              "      <th>rste_RGB_MIL</th>\n",
              "      <th>IOU_MIL_RGB</th>\n",
              "      <th>PREC_MIL_RGB</th>\n",
              "      <th>REC_MIL_RGB</th>\n",
              "      <th>FMEAS_MIL_RGB</th>\n",
              "    </tr>\n",
              "  </thead>\n",
              "  <tbody>\n",
              "    <tr>\n",
              "      <th>0</th>\n",
              "      <td>41.495662</td>\n",
              "      <td>0.065078</td>\n",
              "      <td>0.038604</td>\n",
              "      <td>0.181176</td>\n",
              "      <td>0.063647</td>\n",
              "    </tr>\n",
              "    <tr>\n",
              "      <th>1</th>\n",
              "      <td>42.559608</td>\n",
              "      <td>0.049154</td>\n",
              "      <td>0.038604</td>\n",
              "      <td>0.110788</td>\n",
              "      <td>0.057257</td>\n",
              "    </tr>\n",
              "    <tr>\n",
              "      <th>2</th>\n",
              "      <td>38.954078</td>\n",
              "      <td>0.040707</td>\n",
              "      <td>0.038604</td>\n",
              "      <td>0.092494</td>\n",
              "      <td>0.054473</td>\n",
              "    </tr>\n",
              "    <tr>\n",
              "      <th>3</th>\n",
              "      <td>19.909902</td>\n",
              "      <td>0.045585</td>\n",
              "      <td>0.038604</td>\n",
              "      <td>0.166974</td>\n",
              "      <td>0.062710</td>\n",
              "    </tr>\n",
              "    <tr>\n",
              "      <th>4</th>\n",
              "      <td>35.686135</td>\n",
              "      <td>0.050475</td>\n",
              "      <td>0.038604</td>\n",
              "      <td>0.113623</td>\n",
              "      <td>0.057628</td>\n",
              "    </tr>\n",
              "    <tr>\n",
              "      <th>...</th>\n",
              "      <td>...</td>\n",
              "      <td>...</td>\n",
              "      <td>...</td>\n",
              "      <td>...</td>\n",
              "      <td>...</td>\n",
              "    </tr>\n",
              "    <tr>\n",
              "      <th>145</th>\n",
              "      <td>143.956425</td>\n",
              "      <td>-4.887908</td>\n",
              "      <td>0.038604</td>\n",
              "      <td>4.814922</td>\n",
              "      <td>0.076594</td>\n",
              "    </tr>\n",
              "    <tr>\n",
              "      <th>146</th>\n",
              "      <td>161.271325</td>\n",
              "      <td>0.035874</td>\n",
              "      <td>0.038604</td>\n",
              "      <td>0.081894</td>\n",
              "      <td>0.052473</td>\n",
              "    </tr>\n",
              "    <tr>\n",
              "      <th>147</th>\n",
              "      <td>166.180866</td>\n",
              "      <td>-3.771611</td>\n",
              "      <td>0.038604</td>\n",
              "      <td>3.217894</td>\n",
              "      <td>0.076293</td>\n",
              "    </tr>\n",
              "    <tr>\n",
              "      <th>148</th>\n",
              "      <td>25.534686</td>\n",
              "      <td>0.261509</td>\n",
              "      <td>0.038604</td>\n",
              "      <td>0.490200</td>\n",
              "      <td>0.071572</td>\n",
              "    </tr>\n",
              "    <tr>\n",
              "      <th>149</th>\n",
              "      <td>170.816393</td>\n",
              "      <td>0.038604</td>\n",
              "      <td>0.038604</td>\n",
              "      <td>0.087894</td>\n",
              "      <td>0.053646</td>\n",
              "    </tr>\n",
              "  </tbody>\n",
              "</table>\n",
              "<p>150 rows × 5 columns</p>\n",
              "</div>"
            ],
            "text/plain": [
              "     rste_RGB_MIL  IOU_MIL_RGB  PREC_MIL_RGB  REC_MIL_RGB  FMEAS_MIL_RGB\n",
              "0       41.495662     0.065078      0.038604     0.181176       0.063647\n",
              "1       42.559608     0.049154      0.038604     0.110788       0.057257\n",
              "2       38.954078     0.040707      0.038604     0.092494       0.054473\n",
              "3       19.909902     0.045585      0.038604     0.166974       0.062710\n",
              "4       35.686135     0.050475      0.038604     0.113623       0.057628\n",
              "..            ...          ...           ...          ...            ...\n",
              "145    143.956425    -4.887908      0.038604     4.814922       0.076594\n",
              "146    161.271325     0.035874      0.038604     0.081894       0.052473\n",
              "147    166.180866    -3.771611      0.038604     3.217894       0.076293\n",
              "148     25.534686     0.261509      0.038604     0.490200       0.071572\n",
              "149    170.816393     0.038604      0.038604     0.087894       0.053646\n",
              "\n",
              "[150 rows x 5 columns]"
            ]
          },
          "execution_count": 174,
          "metadata": {},
          "output_type": "execute_result"
        }
      ],
      "source": [
        "data_metrics_TLD_THERMAL"
      ]
    },
    {
      "cell_type": "code",
      "execution_count": null,
      "id": "398bfbf2",
      "metadata": {
        "id": "398bfbf2"
      },
      "outputs": [],
      "source": [
        "avg_rste_TLD_THERMAL=sum(data_metrics_TLD_THERMAL['rste_RGB_MIL'])/len(data_metrics_TLD_THERMAL['rste_RGB_MIL'])"
      ]
    },
    {
      "cell_type": "code",
      "execution_count": null,
      "id": "a72caf90",
      "metadata": {
        "id": "a72caf90",
        "outputId": "4adfd4c9-31c8-48b9-efd0-cc750ac2bf66"
      },
      "outputs": [
        {
          "data": {
            "text/html": [
              "<div>\n",
              "<style scoped>\n",
              "    .dataframe tbody tr th:only-of-type {\n",
              "        vertical-align: middle;\n",
              "    }\n",
              "\n",
              "    .dataframe tbody tr th {\n",
              "        vertical-align: top;\n",
              "    }\n",
              "\n",
              "    .dataframe thead th {\n",
              "        text-align: right;\n",
              "    }\n",
              "</style>\n",
              "<table border=\"1\" class=\"dataframe\">\n",
              "  <thead>\n",
              "    <tr style=\"text-align: right;\">\n",
              "      <th></th>\n",
              "      <th>rste_RGB_MIL</th>\n",
              "      <th>IOU_MIL_RGB</th>\n",
              "      <th>PREC_MIL_RGB</th>\n",
              "      <th>REC_MIL_RGB</th>\n",
              "      <th>FMEAS_MIL_RGB</th>\n",
              "    </tr>\n",
              "  </thead>\n",
              "  <tbody>\n",
              "    <tr>\n",
              "      <th>0</th>\n",
              "      <td>2.385630</td>\n",
              "      <td>0.668910</td>\n",
              "      <td>-4.829192</td>\n",
              "      <td>0.757440</td>\n",
              "      <td>1.796682</td>\n",
              "    </tr>\n",
              "    <tr>\n",
              "      <th>1</th>\n",
              "      <td>2.606455</td>\n",
              "      <td>0.666323</td>\n",
              "      <td>-4.829192</td>\n",
              "      <td>0.749370</td>\n",
              "      <td>1.774025</td>\n",
              "    </tr>\n",
              "    <tr>\n",
              "      <th>2</th>\n",
              "      <td>3.946117</td>\n",
              "      <td>0.676218</td>\n",
              "      <td>-4.829192</td>\n",
              "      <td>0.766588</td>\n",
              "      <td>1.822478</td>\n",
              "    </tr>\n",
              "    <tr>\n",
              "      <th>3</th>\n",
              "      <td>2.225216</td>\n",
              "      <td>0.902417</td>\n",
              "      <td>-4.829192</td>\n",
              "      <td>0.902417</td>\n",
              "      <td>2.219606</td>\n",
              "    </tr>\n",
              "    <tr>\n",
              "      <th>4</th>\n",
              "      <td>4.028259</td>\n",
              "      <td>0.850448</td>\n",
              "      <td>-4.829192</td>\n",
              "      <td>0.876182</td>\n",
              "      <td>2.140773</td>\n",
              "    </tr>\n",
              "    <tr>\n",
              "      <th>...</th>\n",
              "      <td>...</td>\n",
              "      <td>...</td>\n",
              "      <td>...</td>\n",
              "      <td>...</td>\n",
              "      <td>...</td>\n",
              "    </tr>\n",
              "    <tr>\n",
              "      <th>145</th>\n",
              "      <td>124.895384</td>\n",
              "      <td>-7.248799</td>\n",
              "      <td>-4.829192</td>\n",
              "      <td>2.358541</td>\n",
              "      <td>9.220121</td>\n",
              "    </tr>\n",
              "    <tr>\n",
              "      <th>146</th>\n",
              "      <td>130.960906</td>\n",
              "      <td>-12.275755</td>\n",
              "      <td>-4.829192</td>\n",
              "      <td>2.195467</td>\n",
              "      <td>8.051205</td>\n",
              "    </tr>\n",
              "    <tr>\n",
              "      <th>147</th>\n",
              "      <td>134.009333</td>\n",
              "      <td>-18.568180</td>\n",
              "      <td>-4.829192</td>\n",
              "      <td>2.139566</td>\n",
              "      <td>7.683131</td>\n",
              "    </tr>\n",
              "    <tr>\n",
              "      <th>148</th>\n",
              "      <td>136.290968</td>\n",
              "      <td>-9.729732</td>\n",
              "      <td>-4.829192</td>\n",
              "      <td>2.290731</td>\n",
              "      <td>8.715815</td>\n",
              "    </tr>\n",
              "    <tr>\n",
              "      <th>149</th>\n",
              "      <td>139.212202</td>\n",
              "      <td>-4.829192</td>\n",
              "      <td>-4.829192</td>\n",
              "      <td>2.695403</td>\n",
              "      <td>12.200471</td>\n",
              "    </tr>\n",
              "  </tbody>\n",
              "</table>\n",
              "<p>150 rows × 5 columns</p>\n",
              "</div>"
            ],
            "text/plain": [
              "     rste_RGB_MIL  IOU_MIL_RGB  PREC_MIL_RGB  REC_MIL_RGB  FMEAS_MIL_RGB\n",
              "0        2.385630     0.668910     -4.829192     0.757440       1.796682\n",
              "1        2.606455     0.666323     -4.829192     0.749370       1.774025\n",
              "2        3.946117     0.676218     -4.829192     0.766588       1.822478\n",
              "3        2.225216     0.902417     -4.829192     0.902417       2.219606\n",
              "4        4.028259     0.850448     -4.829192     0.876182       2.140773\n",
              "..            ...          ...           ...          ...            ...\n",
              "145    124.895384    -7.248799     -4.829192     2.358541       9.220121\n",
              "146    130.960906   -12.275755     -4.829192     2.195467       8.051205\n",
              "147    134.009333   -18.568180     -4.829192     2.139566       7.683131\n",
              "148    136.290968    -9.729732     -4.829192     2.290731       8.715815\n",
              "149    139.212202    -4.829192     -4.829192     2.695403      12.200471\n",
              "\n",
              "[150 rows x 5 columns]"
            ]
          },
          "execution_count": 201,
          "metadata": {},
          "output_type": "execute_result"
        }
      ],
      "source": [
        "data_metrics_MEDIANFLOW_RGB"
      ]
    },
    {
      "cell_type": "code",
      "execution_count": null,
      "id": "c50dcd72",
      "metadata": {
        "id": "c50dcd72"
      },
      "outputs": [],
      "source": [
        "avg_rste_MEDIANFLOW_RGB=sum(data_metrics_MEDIANFLOW_RGB['rste_RGB_MIL'])/len(data_metrics_MEDIANFLOW_RGB['rste_RGB_MIL'])"
      ]
    },
    {
      "cell_type": "code",
      "execution_count": null,
      "id": "6a232aa2",
      "metadata": {
        "id": "6a232aa2",
        "outputId": "00c748ed-b965-43bd-ccc7-ac134e140af4"
      },
      "outputs": [
        {
          "data": {
            "text/html": [
              "<div>\n",
              "<style scoped>\n",
              "    .dataframe tbody tr th:only-of-type {\n",
              "        vertical-align: middle;\n",
              "    }\n",
              "\n",
              "    .dataframe tbody tr th {\n",
              "        vertical-align: top;\n",
              "    }\n",
              "\n",
              "    .dataframe thead th {\n",
              "        text-align: right;\n",
              "    }\n",
              "</style>\n",
              "<table border=\"1\" class=\"dataframe\">\n",
              "  <thead>\n",
              "    <tr style=\"text-align: right;\">\n",
              "      <th></th>\n",
              "      <th>rste_RGB_MIL</th>\n",
              "      <th>IOU_MIL_RGB</th>\n",
              "      <th>PREC_MIL_RGB</th>\n",
              "      <th>REC_MIL_RGB</th>\n",
              "      <th>FMEAS_MIL_RGB</th>\n",
              "    </tr>\n",
              "  </thead>\n",
              "  <tbody>\n",
              "    <tr>\n",
              "      <th>0</th>\n",
              "      <td>2.782309</td>\n",
              "      <td>0.668390</td>\n",
              "      <td>-2.492011</td>\n",
              "      <td>0.778439</td>\n",
              "      <td>2.264133</td>\n",
              "    </tr>\n",
              "    <tr>\n",
              "      <th>1</th>\n",
              "      <td>3.123481</td>\n",
              "      <td>0.638807</td>\n",
              "      <td>-2.492011</td>\n",
              "      <td>0.757055</td>\n",
              "      <td>2.174796</td>\n",
              "    </tr>\n",
              "    <tr>\n",
              "      <th>2</th>\n",
              "      <td>2.975076</td>\n",
              "      <td>0.648782</td>\n",
              "      <td>-2.492011</td>\n",
              "      <td>0.757703</td>\n",
              "      <td>2.177475</td>\n",
              "    </tr>\n",
              "    <tr>\n",
              "      <th>3</th>\n",
              "      <td>2.266297</td>\n",
              "      <td>0.740281</td>\n",
              "      <td>-2.492011</td>\n",
              "      <td>0.828577</td>\n",
              "      <td>2.482603</td>\n",
              "    </tr>\n",
              "    <tr>\n",
              "      <th>4</th>\n",
              "      <td>2.023266</td>\n",
              "      <td>0.735700</td>\n",
              "      <td>-2.492011</td>\n",
              "      <td>0.813765</td>\n",
              "      <td>2.416703</td>\n",
              "    </tr>\n",
              "    <tr>\n",
              "      <th>...</th>\n",
              "      <td>...</td>\n",
              "      <td>...</td>\n",
              "      <td>...</td>\n",
              "      <td>...</td>\n",
              "      <td>...</td>\n",
              "    </tr>\n",
              "    <tr>\n",
              "      <th>145</th>\n",
              "      <td>116.669226</td>\n",
              "      <td>-2.509217</td>\n",
              "      <td>-2.492011</td>\n",
              "      <td>3.970606</td>\n",
              "      <td>-13.384050</td>\n",
              "    </tr>\n",
              "    <tr>\n",
              "      <th>146</th>\n",
              "      <td>121.665189</td>\n",
              "      <td>-2.578337</td>\n",
              "      <td>-2.492011</td>\n",
              "      <td>3.999790</td>\n",
              "      <td>-13.221462</td>\n",
              "    </tr>\n",
              "    <tr>\n",
              "      <th>147</th>\n",
              "      <td>123.578919</td>\n",
              "      <td>-2.647857</td>\n",
              "      <td>-2.492011</td>\n",
              "      <td>3.998939</td>\n",
              "      <td>-13.226116</td>\n",
              "    </tr>\n",
              "    <tr>\n",
              "      <th>148</th>\n",
              "      <td>124.674311</td>\n",
              "      <td>-2.606022</td>\n",
              "      <td>-2.492011</td>\n",
              "      <td>4.124673</td>\n",
              "      <td>-12.591378</td>\n",
              "    </tr>\n",
              "    <tr>\n",
              "      <th>149</th>\n",
              "      <td>127.026874</td>\n",
              "      <td>-2.492011</td>\n",
              "      <td>-2.492011</td>\n",
              "      <td>4.508190</td>\n",
              "      <td>-11.144307</td>\n",
              "    </tr>\n",
              "  </tbody>\n",
              "</table>\n",
              "<p>150 rows × 5 columns</p>\n",
              "</div>"
            ],
            "text/plain": [
              "     rste_RGB_MIL  IOU_MIL_RGB  PREC_MIL_RGB  REC_MIL_RGB  FMEAS_MIL_RGB\n",
              "0        2.782309     0.668390     -2.492011     0.778439       2.264133\n",
              "1        3.123481     0.638807     -2.492011     0.757055       2.174796\n",
              "2        2.975076     0.648782     -2.492011     0.757703       2.177475\n",
              "3        2.266297     0.740281     -2.492011     0.828577       2.482603\n",
              "4        2.023266     0.735700     -2.492011     0.813765       2.416703\n",
              "..            ...          ...           ...          ...            ...\n",
              "145    116.669226    -2.509217     -2.492011     3.970606     -13.384050\n",
              "146    121.665189    -2.578337     -2.492011     3.999790     -13.221462\n",
              "147    123.578919    -2.647857     -2.492011     3.998939     -13.226116\n",
              "148    124.674311    -2.606022     -2.492011     4.124673     -12.591378\n",
              "149    127.026874    -2.492011     -2.492011     4.508190     -11.144307\n",
              "\n",
              "[150 rows x 5 columns]"
            ]
          },
          "execution_count": 226,
          "metadata": {},
          "output_type": "execute_result"
        }
      ],
      "source": [
        "data_metrics_MEDIANFLOW_THERMAL"
      ]
    },
    {
      "cell_type": "code",
      "execution_count": null,
      "id": "2b718bd4",
      "metadata": {
        "id": "2b718bd4"
      },
      "outputs": [],
      "source": [
        "avg_rste_MEDIANFLOW_THERMAL=sum(data_metrics_MEDIANFLOW_THERMAL['rste_RGB_MIL'])/len(data_metrics_MEDIANFLOW_THERMAL['rste_RGB_MIL'])"
      ]
    },
    {
      "cell_type": "code",
      "execution_count": null,
      "id": "8a0b41af",
      "metadata": {
        "scrolled": true,
        "id": "8a0b41af",
        "outputId": "f19dcc08-8ef5-4556-ac1e-2de544900365"
      },
      "outputs": [
        {
          "data": {
            "text/html": [
              "<div>\n",
              "<style scoped>\n",
              "    .dataframe tbody tr th:only-of-type {\n",
              "        vertical-align: middle;\n",
              "    }\n",
              "\n",
              "    .dataframe tbody tr th {\n",
              "        vertical-align: top;\n",
              "    }\n",
              "\n",
              "    .dataframe thead th {\n",
              "        text-align: right;\n",
              "    }\n",
              "</style>\n",
              "<table border=\"1\" class=\"dataframe\">\n",
              "  <thead>\n",
              "    <tr style=\"text-align: right;\">\n",
              "      <th></th>\n",
              "      <th>rste_RGB_MIL</th>\n",
              "      <th>IOU_MIL_RGB</th>\n",
              "      <th>PREC_MIL_RGB</th>\n",
              "      <th>REC_MIL_RGB</th>\n",
              "      <th>FMEAS_MIL_RGB</th>\n",
              "    </tr>\n",
              "  </thead>\n",
              "  <tbody>\n",
              "    <tr>\n",
              "      <th>0</th>\n",
              "      <td>3.354102</td>\n",
              "      <td>0.665034</td>\n",
              "      <td>-2.330495</td>\n",
              "      <td>0.798824</td>\n",
              "      <td>2.430879</td>\n",
              "    </tr>\n",
              "    <tr>\n",
              "      <th>1</th>\n",
              "      <td>3.546858</td>\n",
              "      <td>0.646681</td>\n",
              "      <td>-2.330495</td>\n",
              "      <td>0.785435</td>\n",
              "      <td>2.369427</td>\n",
              "    </tr>\n",
              "    <tr>\n",
              "      <th>2</th>\n",
              "      <td>3.544037</td>\n",
              "      <td>0.646787</td>\n",
              "      <td>-2.330495</td>\n",
              "      <td>0.777659</td>\n",
              "      <td>2.334219</td>\n",
              "    </tr>\n",
              "    <tr>\n",
              "      <th>3</th>\n",
              "      <td>2.557381</td>\n",
              "      <td>0.667216</td>\n",
              "      <td>-2.330495</td>\n",
              "      <td>0.761788</td>\n",
              "      <td>2.263449</td>\n",
              "    </tr>\n",
              "    <tr>\n",
              "      <th>4</th>\n",
              "      <td>6.046503</td>\n",
              "      <td>0.445133</td>\n",
              "      <td>-2.330495</td>\n",
              "      <td>0.586329</td>\n",
              "      <td>1.566867</td>\n",
              "    </tr>\n",
              "    <tr>\n",
              "      <th>...</th>\n",
              "      <td>...</td>\n",
              "      <td>...</td>\n",
              "      <td>...</td>\n",
              "      <td>...</td>\n",
              "      <td>...</td>\n",
              "    </tr>\n",
              "    <tr>\n",
              "      <th>145</th>\n",
              "      <td>124.030884</td>\n",
              "      <td>-2.119526</td>\n",
              "      <td>-2.330495</td>\n",
              "      <td>3.786470</td>\n",
              "      <td>-12.121565</td>\n",
              "    </tr>\n",
              "    <tr>\n",
              "      <th>146</th>\n",
              "      <td>130.993970</td>\n",
              "      <td>-2.646298</td>\n",
              "      <td>-2.330495</td>\n",
              "      <td>3.214847</td>\n",
              "      <td>-16.943900</td>\n",
              "    </tr>\n",
              "    <tr>\n",
              "      <th>147</th>\n",
              "      <td>135.732311</td>\n",
              "      <td>-3.542247</td>\n",
              "      <td>-2.330495</td>\n",
              "      <td>2.786706</td>\n",
              "      <td>-28.471072</td>\n",
              "    </tr>\n",
              "    <tr>\n",
              "      <th>148</th>\n",
              "      <td>138.878293</td>\n",
              "      <td>-3.778959</td>\n",
              "      <td>-2.330495</td>\n",
              "      <td>2.719694</td>\n",
              "      <td>-32.570660</td>\n",
              "    </tr>\n",
              "    <tr>\n",
              "      <th>149</th>\n",
              "      <td>140.816264</td>\n",
              "      <td>-2.330495</td>\n",
              "      <td>-2.330495</td>\n",
              "      <td>3.503200</td>\n",
              "      <td>-13.923691</td>\n",
              "    </tr>\n",
              "  </tbody>\n",
              "</table>\n",
              "<p>150 rows × 5 columns</p>\n",
              "</div>"
            ],
            "text/plain": [
              "     rste_RGB_MIL  IOU_MIL_RGB  PREC_MIL_RGB  REC_MIL_RGB  FMEAS_MIL_RGB\n",
              "0        3.354102     0.665034     -2.330495     0.798824       2.430879\n",
              "1        3.546858     0.646681     -2.330495     0.785435       2.369427\n",
              "2        3.544037     0.646787     -2.330495     0.777659       2.334219\n",
              "3        2.557381     0.667216     -2.330495     0.761788       2.263449\n",
              "4        6.046503     0.445133     -2.330495     0.586329       1.566867\n",
              "..            ...          ...           ...          ...            ...\n",
              "145    124.030884    -2.119526     -2.330495     3.786470     -12.121565\n",
              "146    130.993970    -2.646298     -2.330495     3.214847     -16.943900\n",
              "147    135.732311    -3.542247     -2.330495     2.786706     -28.471072\n",
              "148    138.878293    -3.778959     -2.330495     2.719694     -32.570660\n",
              "149    140.816264    -2.330495     -2.330495     3.503200     -13.923691\n",
              "\n",
              "[150 rows x 5 columns]"
            ]
          },
          "execution_count": 258,
          "metadata": {},
          "output_type": "execute_result"
        }
      ],
      "source": [
        "data_metrics_CSRT_RGB"
      ]
    },
    {
      "cell_type": "code",
      "execution_count": null,
      "id": "d9aefdae",
      "metadata": {
        "id": "d9aefdae"
      },
      "outputs": [],
      "source": [
        "avg_rste_CSRT_RGB=sum(data_metrics_CSRT_RGB['rste_RGB_MIL'])/len(data_metrics_CSRT_RGB['rste_RGB_MIL'])"
      ]
    },
    {
      "cell_type": "code",
      "execution_count": null,
      "id": "ee4ea2ea",
      "metadata": {
        "id": "ee4ea2ea",
        "outputId": "a05ec909-966d-4f46-b1e0-3998a7fcbdf2"
      },
      "outputs": [
        {
          "data": {
            "text/html": [
              "<div>\n",
              "<style scoped>\n",
              "    .dataframe tbody tr th:only-of-type {\n",
              "        vertical-align: middle;\n",
              "    }\n",
              "\n",
              "    .dataframe tbody tr th {\n",
              "        vertical-align: top;\n",
              "    }\n",
              "\n",
              "    .dataframe thead th {\n",
              "        text-align: right;\n",
              "    }\n",
              "</style>\n",
              "<table border=\"1\" class=\"dataframe\">\n",
              "  <thead>\n",
              "    <tr style=\"text-align: right;\">\n",
              "      <th></th>\n",
              "      <th>rste_RGB_MIL</th>\n",
              "      <th>IOU_MIL_RGB</th>\n",
              "      <th>PREC_MIL_RGB</th>\n",
              "      <th>REC_MIL_RGB</th>\n",
              "      <th>FMEAS_MIL_RGB</th>\n",
              "    </tr>\n",
              "  </thead>\n",
              "  <tbody>\n",
              "    <tr>\n",
              "      <th>0</th>\n",
              "      <td>3.354102</td>\n",
              "      <td>0.665034</td>\n",
              "      <td>-2.098752</td>\n",
              "      <td>0.798824</td>\n",
              "      <td>2.579423</td>\n",
              "    </tr>\n",
              "    <tr>\n",
              "      <th>1</th>\n",
              "      <td>4.315113</td>\n",
              "      <td>0.604743</td>\n",
              "      <td>-2.098752</td>\n",
              "      <td>0.753694</td>\n",
              "      <td>2.352044</td>\n",
              "    </tr>\n",
              "    <tr>\n",
              "      <th>2</th>\n",
              "      <td>4.756070</td>\n",
              "      <td>0.553419</td>\n",
              "      <td>-2.098752</td>\n",
              "      <td>0.712518</td>\n",
              "      <td>2.157497</td>\n",
              "    </tr>\n",
              "    <tr>\n",
              "      <th>3</th>\n",
              "      <td>6.054767</td>\n",
              "      <td>0.610855</td>\n",
              "      <td>-2.098752</td>\n",
              "      <td>0.758424</td>\n",
              "      <td>2.375154</td>\n",
              "    </tr>\n",
              "    <tr>\n",
              "      <th>4</th>\n",
              "      <td>3.821021</td>\n",
              "      <td>0.720226</td>\n",
              "      <td>-2.098752</td>\n",
              "      <td>0.828988</td>\n",
              "      <td>2.740417</td>\n",
              "    </tr>\n",
              "    <tr>\n",
              "      <th>...</th>\n",
              "      <td>...</td>\n",
              "      <td>...</td>\n",
              "      <td>...</td>\n",
              "      <td>...</td>\n",
              "      <td>...</td>\n",
              "    </tr>\n",
              "    <tr>\n",
              "      <th>145</th>\n",
              "      <td>124.191949</td>\n",
              "      <td>-2.203106</td>\n",
              "      <td>-2.098752</td>\n",
              "      <td>3.662365</td>\n",
              "      <td>-9.831585</td>\n",
              "    </tr>\n",
              "    <tr>\n",
              "      <th>146</th>\n",
              "      <td>130.013231</td>\n",
              "      <td>-2.686324</td>\n",
              "      <td>-2.098752</td>\n",
              "      <td>3.186012</td>\n",
              "      <td>-12.300003</td>\n",
              "    </tr>\n",
              "    <tr>\n",
              "      <th>147</th>\n",
              "      <td>134.919755</td>\n",
              "      <td>-2.503547</td>\n",
              "      <td>-2.098752</td>\n",
              "      <td>3.330188</td>\n",
              "      <td>-11.351363</td>\n",
              "    </tr>\n",
              "    <tr>\n",
              "      <th>148</th>\n",
              "      <td>136.701574</td>\n",
              "      <td>-2.310545</td>\n",
              "      <td>-2.098752</td>\n",
              "      <td>3.526082</td>\n",
              "      <td>-10.369531</td>\n",
              "    </tr>\n",
              "    <tr>\n",
              "      <th>149</th>\n",
              "      <td>141.454022</td>\n",
              "      <td>-2.098752</td>\n",
              "      <td>-2.098752</td>\n",
              "      <td>3.820247</td>\n",
              "      <td>-9.314870</td>\n",
              "    </tr>\n",
              "  </tbody>\n",
              "</table>\n",
              "<p>150 rows × 5 columns</p>\n",
              "</div>"
            ],
            "text/plain": [
              "     rste_RGB_MIL  IOU_MIL_RGB  PREC_MIL_RGB  REC_MIL_RGB  FMEAS_MIL_RGB\n",
              "0        3.354102     0.665034     -2.098752     0.798824       2.579423\n",
              "1        4.315113     0.604743     -2.098752     0.753694       2.352044\n",
              "2        4.756070     0.553419     -2.098752     0.712518       2.157497\n",
              "3        6.054767     0.610855     -2.098752     0.758424       2.375154\n",
              "4        3.821021     0.720226     -2.098752     0.828988       2.740417\n",
              "..            ...          ...           ...          ...            ...\n",
              "145    124.191949    -2.203106     -2.098752     3.662365      -9.831585\n",
              "146    130.013231    -2.686324     -2.098752     3.186012     -12.300003\n",
              "147    134.919755    -2.503547     -2.098752     3.330188     -11.351363\n",
              "148    136.701574    -2.310545     -2.098752     3.526082     -10.369531\n",
              "149    141.454022    -2.098752     -2.098752     3.820247      -9.314870\n",
              "\n",
              "[150 rows x 5 columns]"
            ]
          },
          "execution_count": 283,
          "metadata": {},
          "output_type": "execute_result"
        }
      ],
      "source": [
        "data_metrics_CSRT_THERMAL"
      ]
    },
    {
      "cell_type": "code",
      "execution_count": null,
      "id": "df34a1e4",
      "metadata": {
        "id": "df34a1e4"
      },
      "outputs": [],
      "source": [
        "avg_rste_CSRT_THERMAL=sum(data_metrics_CSRT_THERMAL['rste_RGB_MIL'])/len(data_metrics_CSRT_THERMAL['rste_RGB_MIL'])"
      ]
    },
    {
      "cell_type": "markdown",
      "id": "4d6f5d94",
      "metadata": {
        "id": "4d6f5d94"
      },
      "source": [
        "## AVG F-Measure of RGB calculation"
      ]
    },
    {
      "cell_type": "code",
      "execution_count": null,
      "id": "b23a5d18",
      "metadata": {
        "id": "b23a5d18",
        "outputId": "b688b164-2d11-465b-ec6d-40354347c839"
      },
      "outputs": [
        {
          "name": "stdout",
          "output_type": "stream",
          "text": [
            "Avg F-measure RGB of all the trackers:  1.5192483561402992\n"
          ]
        }
      ],
      "source": [
        "AVG_FMEAS_RGB_GLOBAL=(AVG_FMEAS_MIL_RGB+AVG_FMEAS_BOOSTING_RGB+AVG_FMEAS_TLD_RGB+AVG_FMEAS_MEDIANFLOW_RGB+AVG_FMEAS_CSRT_RGB)/5\n",
        "print(\"Avg F-measure RGB of all the trackers: \",AVG_FMEAS_RGB_GLOBAL)"
      ]
    },
    {
      "cell_type": "markdown",
      "id": "f6b89bc8",
      "metadata": {
        "id": "f6b89bc8"
      },
      "source": [
        "## AVG F-Measure of Thermal calculation"
      ]
    },
    {
      "cell_type": "code",
      "execution_count": null,
      "id": "ac129b22",
      "metadata": {
        "id": "ac129b22",
        "outputId": "5269a277-16df-4e52-e190-81afdf96ca5f"
      },
      "outputs": [
        {
          "name": "stdout",
          "output_type": "stream",
          "text": [
            "Avg F-measure THERMAL of all the trackers:  -9.25445430481513\n"
          ]
        }
      ],
      "source": [
        "AVG_FMEAS_THERMAL_GLOBAL=(AVG_FMEAS_MIL_THERMAL+AVG_FMEAS_BOOSTING_THERMAL+AVG_FMEAS_TLD_THERMAL+AVG_FMEAS_MEDIANFLOW_THERMAL+AVG_FMEAS_CSRT_THERMAL)/5\n",
        "print(\"Avg F-measure THERMAL of all the trackers: \",AVG_FMEAS_THERMAL_GLOBAL)"
      ]
    },
    {
      "cell_type": "code",
      "execution_count": null,
      "id": "29ebbbe1",
      "metadata": {
        "id": "29ebbbe1",
        "outputId": "56e714a8-1f23-45fa-effe-101a091c2689"
      },
      "outputs": [
        {
          "name": "stdout",
          "output_type": "stream",
          "text": [
            "0.2111915062804158 \n",
            "\n",
            "-0.7898657326918855 \n",
            "\n",
            "1.9799443025903467 \n",
            "\n",
            "3.8690178839668223 \n",
            "\n",
            "2.325953820555797\n"
          ]
        }
      ],
      "source": [
        "print(AVG_FMEAS_MIL_RGB,\"\\n\")\n",
        "print(AVG_FMEAS_BOOSTING_RGB,\"\\n\")\n",
        "print(AVG_FMEAS_TLD_RGB,\"\\n\")\n",
        "print(AVG_FMEAS_MEDIANFLOW_RGB,\"\\n\")\n",
        "print(AVG_FMEAS_CSRT_RGB)"
      ]
    },
    {
      "cell_type": "code",
      "execution_count": null,
      "id": "446230aa",
      "metadata": {
        "id": "446230aa",
        "outputId": "683eaa7d-d17f-406b-c2a9-185b9b4e52eb"
      },
      "outputs": [
        {
          "name": "stdout",
          "output_type": "stream",
          "text": [
            "0.5361158558831867 \n",
            "\n",
            "0.7378968361910627 \n",
            "\n",
            "0.06557376857675959 \n",
            "\n",
            "-3.0932668133354437 \n",
            "\n",
            "-44.518591171391215\n"
          ]
        }
      ],
      "source": [
        "print(AVG_FMEAS_MIL_THERMAL,\"\\n\")\n",
        "print(AVG_FMEAS_BOOSTING_THERMAL,\"\\n\")\n",
        "print(AVG_FMEAS_TLD_THERMAL,\"\\n\")\n",
        "print(AVG_FMEAS_MEDIANFLOW_THERMAL,\"\\n\")\n",
        "print(AVG_FMEAS_CSRT_THERMAL)"
      ]
    },
    {
      "cell_type": "markdown",
      "id": "e087a43c",
      "metadata": {
        "id": "e087a43c"
      },
      "source": [
        "## Calculation for Robustness"
      ]
    },
    {
      "cell_type": "code",
      "execution_count": null,
      "id": "3ce4552c",
      "metadata": {
        "id": "3ce4552c",
        "outputId": "adf9574f-dab2-4a14-ed6a-90264a6fcb18"
      },
      "outputs": [
        {
          "name": "stdout",
          "output_type": "stream",
          "text": [
            "7.415500142909497 \n",
            "\n",
            "5.527403335614275 \n",
            "\n",
            "110.13576292746072 \n",
            "\n",
            "35.87042579887544 \n",
            "\n",
            "33.78506196457367\n"
          ]
        }
      ],
      "source": [
        "print(avg_rste_MIL_THERMAL,\"\\n\")\n",
        "print(avg_rste_BOOSTING_THERMAL,\"\\n\")\n",
        "print(avg_rste_TLD_THERMAL,\"\\n\")\n",
        "print(avg_rste_MEDIANFLOW_THERMAL,\"\\n\")\n",
        "print(avg_rste_CSRT_THERMAL)"
      ]
    },
    {
      "cell_type": "code",
      "execution_count": null,
      "id": "dee55eda",
      "metadata": {
        "id": "dee55eda"
      },
      "outputs": [],
      "source": [
        "avg_rste_thermal=[]\n",
        "avg_rste_thermal.append(avg_rste_MIL_THERMAL)\n",
        "avg_rste_thermal.append(avg_rste_BOOSTING_THERMAL)\n",
        "avg_rste_thermal.append(avg_rste_TLD_THERMAL)\n",
        "avg_rste_thermal.append(avg_rste_MEDIANFLOW_THERMAL)\n",
        "avg_rste_thermal.append(avg_rste_CSRT_THERMAL)"
      ]
    },
    {
      "cell_type": "code",
      "execution_count": null,
      "id": "bcf1d01d",
      "metadata": {
        "id": "bcf1d01d",
        "outputId": "8b25fc8c-0852-4989-b456-4c9d17b60f5f"
      },
      "outputs": [
        {
          "name": "stdout",
          "output_type": "stream",
          "text": [
            "16.814405214065523 \n",
            "\n",
            "32.155172602575256 \n",
            "\n",
            "53.05084862802271 \n",
            "\n",
            "55.30967023313697 \n",
            "\n",
            "33.99629274206246\n"
          ]
        }
      ],
      "source": [
        "print(avg_rste_MIL_RGB,\"\\n\")\n",
        "print(avg_rste_BOOSTING_RGB,\"\\n\")\n",
        "print(avg_rste_TLD_RGB,\"\\n\")\n",
        "print(avg_rste_MEDIANFLOW_RGB,\"\\n\")\n",
        "print(avg_rste_CSRT_RGB)"
      ]
    },
    {
      "cell_type": "code",
      "execution_count": null,
      "id": "80ad531e",
      "metadata": {
        "id": "80ad531e"
      },
      "outputs": [],
      "source": [
        "avg_rste_rgb=[]\n",
        "avg_rste_rgb.append(avg_rste_MIL_RGB)\n",
        "avg_rste_rgb.append(avg_rste_BOOSTING_RGB)\n",
        "avg_rste_rgb.append(avg_rste_TLD_RGB)\n",
        "avg_rste_rgb.append(avg_rste_MEDIANFLOW_RGB)\n",
        "avg_rste_rgb.append(avg_rste_CSRT_RGB)"
      ]
    },
    {
      "cell_type": "code",
      "execution_count": null,
      "id": "d0f9058a",
      "metadata": {
        "id": "d0f9058a"
      },
      "outputs": [],
      "source": [
        "#for rgb\n",
        "forten=0\n",
        "fortwenty=0\n",
        "forthirty=0\n",
        "forforty=0\n",
        "forfifty=0\n",
        "forsixty=0\n",
        "forseventy=0\n",
        "foreighty=0\n",
        "forninety=0\n",
        "forhundred=0\n",
        "forhundredten=0\n",
        "forhundredtwenty=0\n",
        "\n",
        "for i in range(0,len(avg_rste_rgb)):\n",
        "    if avg_rste_rgb[i]<10:\n",
        "            forten=forten+1\n",
        "for i in range(0,len(avg_rste_rgb)):\n",
        "    if avg_rste_rgb[i]<20:\n",
        "            fortwenty=fortwenty+1\n",
        "for i in range(0,len(avg_rste_rgb)):\n",
        "    if avg_rste_rgb[i]<30:\n",
        "            forthirty=forthirty+1\n",
        "for i in range(0,len(avg_rste_rgb)):\n",
        "    if avg_rste_rgb[i]<40:\n",
        "            forforty=forforty+1\n",
        "for i in range(0,len(avg_rste_rgb)):\n",
        "    if avg_rste_rgb[i]<50:\n",
        "            forfifty=forfifty+1\n",
        "for i in range(0,len(avg_rste_rgb)):\n",
        "    if avg_rste_rgb[i]<60:\n",
        "            forsixty=forsixty+1\n",
        "for i in range(0,len(avg_rste_rgb)):\n",
        "    if avg_rste_rgb[i]<70:\n",
        "            forseventy=forseventy+1\n",
        "for i in range(0,len(avg_rste_rgb)):\n",
        "    if avg_rste_rgb[i]<80:\n",
        "            foreighty=foreighty+1\n",
        "for i in range(0,len(avg_rste_rgb)):\n",
        "    if avg_rste_rgb[i]<90:\n",
        "            forninety=forninety+1\n",
        "for i in range(0,len(avg_rste_rgb)):\n",
        "    if avg_rste_rgb[i]<100:\n",
        "            forhundred=forhundred+1\n",
        "for i in range(0,len(avg_rste_rgb)):\n",
        "    if avg_rste_rgb[i]<110:\n",
        "            forhundredten=forhundredten+1\n",
        "for i in range(0,len(avg_rste_rgb)):\n",
        "    if avg_rste_rgb[i]<120:\n",
        "            forhundredtwenty=forhundredtwenty+1"
      ]
    },
    {
      "cell_type": "code",
      "execution_count": null,
      "id": "bae9fa27",
      "metadata": {
        "id": "bae9fa27"
      },
      "outputs": [],
      "source": [
        "#for thermal\n",
        "fortena=0\n",
        "fortwentya=0\n",
        "forthirtya=0\n",
        "forfortya=0\n",
        "forfiftya=0\n",
        "forsixtya=0\n",
        "forseventya=0\n",
        "foreightya=0\n",
        "forninetya=0\n",
        "forhundreda=0\n",
        "forhundredtena=0\n",
        "forhundredtwentya=0\n",
        "\n",
        "for i in range(0,len(avg_rste_thermal)):\n",
        "    if avg_rste_thermal[i]<10:\n",
        "            fortena=fortena+1\n",
        "for i in range(0,len(avg_rste_thermal)):\n",
        "    if avg_rste_thermal[i]<20:\n",
        "            fortwentya=fortwentya+1\n",
        "for i in range(0,len(avg_rste_thermal)):\n",
        "    if avg_rste_thermal[i]<30:\n",
        "            forthirtya=forthirtya+1\n",
        "for i in range(0,len(avg_rste_thermal)):\n",
        "    if avg_rste_thermal[i]<40:\n",
        "            forfortya=forfortya+1\n",
        "for i in range(0,len(avg_rste_thermal)):\n",
        "    if avg_rste_thermal[i]<50:\n",
        "            forfiftya=forfiftya+1\n",
        "for i in range(0,len(avg_rste_thermal)):\n",
        "    if avg_rste_thermal[i]<60:\n",
        "            forsixtya=forsixtya+1\n",
        "for i in range(0,len(avg_rste_thermal)):\n",
        "    if avg_rste_thermal[i]<70:\n",
        "            forseventya=forseventya+1\n",
        "for i in range(0,len(avg_rste_thermal)):\n",
        "    if avg_rste_thermal[i]<80:\n",
        "            foreightya=foreightya+1\n",
        "for i in range(0,len(avg_rste_thermal)):\n",
        "    if avg_rste_thermal[i]<90:\n",
        "            forninetya=forninetya+1\n",
        "for i in range(0,len(avg_rste_thermal)):\n",
        "    if avg_rste_thermal[i]<100:\n",
        "            forhundreda=forhundreda+1\n",
        "for i in range(0,len(avg_rste_thermal)):\n",
        "    if avg_rste_thermal[i]<110:\n",
        "            forhundredtena=forhundredtena+1\n",
        "for i in range(0,len(avg_rste_thermal)):\n",
        "    if avg_rste_thermal[i]<120:\n",
        "            forhundredtwentya=forhundredtwentya+1"
      ]
    },
    {
      "cell_type": "code",
      "execution_count": null,
      "id": "71f0de93",
      "metadata": {
        "id": "71f0de93"
      },
      "outputs": [],
      "source": [
        "#for THERMAL\n",
        "fortena=fortena/len(avg_rste_thermal)\n",
        "fortwentya=fortwentya/len(avg_rste_thermal)\n",
        "forthirtya=forthirtya/len(avg_rste_thermal)\n",
        "forfortya=forfortya/len(avg_rste_thermal)\n",
        "forfiftya=forfiftya/len(avg_rste_thermal)\n",
        "forsixtya=forsixtya/len(avg_rste_thermal)\n",
        "forseventya=forseventya/len(avg_rste_thermal)\n",
        "foreightya=foreightya/len(avg_rste_thermal)\n",
        "forninetya=forninetya/len(avg_rste_thermal)\n",
        "forhundreda=forhundreda/len(avg_rste_thermal)\n",
        "forhundredtena=forhundredtena/len(avg_rste_thermal)\n",
        "forhundredtwentya=forhundredtwentya/len(avg_rste_thermal)"
      ]
    },
    {
      "cell_type": "code",
      "execution_count": null,
      "id": "9e218ba3",
      "metadata": {
        "id": "9e218ba3"
      },
      "outputs": [],
      "source": [
        "#for RGB\n",
        "forten=forten/len(avg_rste_rgb)\n",
        "fortwenty=fortwenty/len(avg_rste_rgb)\n",
        "forthirty=forthirty/len(avg_rste_rgb)\n",
        "forforty=forforty/len(avg_rste_rgb)\n",
        "forfifty=forfifty/len(avg_rste_rgb)\n",
        "forsixty=forsixty/len(avg_rste_rgb)\n",
        "forseventy=forseventy/len(avg_rste_rgb)\n",
        "foreighty=foreighty/len(avg_rste_rgb)\n",
        "forninety=forninety/len(avg_rste_rgb)\n",
        "forhundred=forhundred/len(avg_rste_rgb)\n",
        "forhundredten=forhundredten/len(avg_rste_rgb)\n",
        "forhundredtwenty=forhundredtwenty/len(avg_rste_rgb)"
      ]
    },
    {
      "cell_type": "code",
      "execution_count": null,
      "id": "34d76dd4",
      "metadata": {
        "id": "34d76dd4",
        "outputId": "8cb2a6da-3834-41a5-96d5-dab629c9fd78"
      },
      "outputs": [
        {
          "name": "stdout",
          "output_type": "stream",
          "text": [
            "\n",
            "for forten:\t 0.4 \n",
            "for twenty:\t 0.4 \n",
            "for thirty:\t 0.4 \n",
            "for forty:\t 0.8 \n",
            "for fifty:\t 0.8 \n",
            "for forsixty:\t 0.8 \n",
            "for seventy:\t 0.8 \n",
            "for eighty:\t 0.8 \n",
            "for ninety:\t 0.8 \n",
            "for hundred:\t 0.8 \n",
            "for hundredten:\t 0.8 \n",
            "for hundredtwenty:\t 1.0\n"
          ]
        }
      ],
      "source": [
        "#for THERMAL\n",
        "print('\\nfor forten:\\t',fortena,'\\nfor twenty:\\t', fortwentya,'\\nfor thirty:\\t', forthirtya,'\\nfor forty:\\t', forfortya,'\\nfor fifty:\\t', forfiftya,'\\nfor forsixty:\\t', forsixtya,'\\nfor seventy:\\t', forseventya,'\\nfor eighty:\\t', foreightya,'\\nfor ninety:\\t', forninetya,'\\nfor hundred:\\t', forhundreda,'\\nfor hundredten:\\t', forhundredtena,'\\nfor hundredtwenty:\\t', forhundredtwentya)"
      ]
    },
    {
      "cell_type": "code",
      "execution_count": null,
      "id": "7f69f25e",
      "metadata": {
        "id": "7f69f25e",
        "outputId": "0ed65fff-4f68-4efa-c670-a84dae8fb7ee"
      },
      "outputs": [
        {
          "name": "stdout",
          "output_type": "stream",
          "text": [
            "\n",
            "for forten:\t 0.0 \n",
            "for twenty:\t 0.2 \n",
            "for thirty:\t 0.2 \n",
            "for forty:\t 0.6 \n",
            "for fifty:\t 0.6 \n",
            "for forsixty:\t 1.0 \n",
            "for seventy:\t 1.0 \n",
            "for eighty:\t 1.0 \n",
            "for ninety:\t 1.0 \n",
            "for hundred:\t 1.0 \n",
            "for hundredten:\t 1.0 \n",
            "for hundredtwenty:\t 1.0\n"
          ]
        }
      ],
      "source": [
        "#for RGB\n",
        "print('\\nfor forten:\\t',forten,'\\nfor twenty:\\t', fortwenty,'\\nfor thirty:\\t', forthirty,'\\nfor forty:\\t', forforty,'\\nfor fifty:\\t', forfifty,'\\nfor forsixty:\\t', forsixty,'\\nfor seventy:\\t', forseventy,'\\nfor eighty:\\t', foreighty,'\\nfor ninety:\\t', forninety,'\\nfor hundred:\\t', forhundred,'\\nfor hundredten:\\t', forhundredten,'\\nfor hundredtwenty:\\t', forhundredtwenty)"
      ]
    },
    {
      "cell_type": "code",
      "execution_count": null,
      "id": "48ceea48",
      "metadata": {
        "id": "48ceea48",
        "outputId": "7c32ced4-d878-42f2-b7f2-fe50c1451620"
      },
      "outputs": [
        {
          "data": {
            "image/png": "[encoded data removed]",
            "text/plain": [
              "<Figure size 432x288 with 1 Axes>"
            ]
          },
          "metadata": {
            "needs_background": "light"
          },
          "output_type": "display_data"
        }
      ],
      "source": [
        "import matplotlib.pyplot as plt \n",
        "\n",
        "x = [10,20,30,40,50,60,70,80,90,100,110,120] \n",
        "\n",
        "y = [0,0.2,0.2,0.6,0.6,1,1,1,1,1,1,1] \n",
        " \n",
        "plt.plot(x, y) \n",
        "\n",
        "plt.xlabel('checkpoints for RSTE') \n",
        "\n",
        "plt.ylabel('robustness') \n",
        "\n",
        "plt.title('Graph for robustness in RGB case') \n",
        "\n",
        "plt.show()"
      ]
    },
    {
      "cell_type": "code",
      "execution_count": null,
      "id": "ac68550c",
      "metadata": {
        "id": "ac68550c",
        "outputId": "7a545f44-39de-447c-ccf8-a9be5977f00a"
      },
      "outputs": [
        {
          "data": {
            "image/png": "[encoded data removed]",
            "text/plain": [
              "<Figure size 432x288 with 1 Axes>"
            ]
          },
          "metadata": {
            "needs_background": "light"
          },
          "output_type": "display_data"
        }
      ],
      "source": [
        "import matplotlib.pyplot as plt \n",
        "\n",
        "x = [10,20,30,40,50,60,70,80,90,100,110,120] \n",
        "\n",
        "y = [0.4,0.4,0.4,0.8,0.8,0.8,0.8,0.8,0.8,0.8,0.8,1] \n",
        " \n",
        "plt.plot(x, y) \n",
        "\n",
        "plt.xlabel('checkpoints for RSTE') \n",
        "\n",
        "plt.ylabel('robustness') \n",
        "\n",
        "plt.title('Graph for robustness in THERMAL case') \n",
        "\n",
        "plt.show()"
      ]
    },
    {
      "cell_type": "markdown",
      "id": "8b35cb70",
      "metadata": {
        "id": "8b35cb70"
      },
      "source": [
        "## KCF tracker provides tracking error in case of rgb and thermal both, even after use of legacy"
      ]
    },
    {
      "cell_type": "markdown",
      "id": "8295357d",
      "metadata": {
        "id": "8295357d"
      },
      "source": [
        "## GOTurn is not working in this version of cv2 even after legacy implementation it's not working"
      ]
    },
    {
      "cell_type": "markdown",
      "id": "830b27b2",
      "metadata": {
        "id": "830b27b2"
      },
      "source": [
        "## MOSSE tracker provides tracking eroor in case of rgb and thermal both, even after use of legacy"
      ]
    },
    {
      "cell_type": "code",
      "execution_count": null,
      "id": "fd979355",
      "metadata": {
        "id": "fd979355"
      },
      "outputs": [],
      "source": [
        ""
      ]
    }
  ],
  "metadata": {
    "kernelspec": {
      "display_name": "Python 3 (ipykernel)",
      "language": "python",
      "name": "python3"
    },
    "language_info": {
      "codemirror_mode": {
        "name": "ipython",
        "version": 3
      },
      "file_extension": ".py",
      "mimetype": "text/x-python",
      "name": "python",
      "nbconvert_exporter": "python",
      "pygments_lexer": "ipython3",
      "version": "3.9.7"
    },
    "colab": {
      "name": "Trackers_internal_codes_Refined_as_per_Dataframes.ipynb",
      "provenance": []
    }
  },
  "nbformat": 4,
  "nbformat_minor": 5
}